{
 "cells": [
  {
   "cell_type": "markdown",
   "metadata": {},
   "source": [
    "### Breast Cancer Detection using Decision Tree algorithm"
   ]
  },
  {
   "cell_type": "markdown",
   "metadata": {},
   "source": [
    "##### Importing necessary packages"
   ]
  },
  {
   "cell_type": "code",
   "execution_count": 121,
   "metadata": {},
   "outputs": [],
   "source": [
    "import pandas as pd\n",
    "import numpy as np\n",
    "import matplotlib.pyplot as plt\n",
    "from sklearn.model_selection import train_test_split\n",
    "from sklearn.metrics import confusion_matrix, classification_report, accuracy_score\n",
    "from sklearn.tree import DecisionTreeClassifier"
   ]
  },
  {
   "cell_type": "markdown",
   "metadata": {},
   "source": [
    "**Loading the dataset**"
   ]
  },
  {
   "cell_type": "code",
   "execution_count": 122,
   "metadata": {},
   "outputs": [],
   "source": [
    "df = pd.read_csv(\"../Cases/Wisconsin/BreastCancer.csv\")\n",
    "#### Data is taken from https://archive.ics.uci.edu/ml/datasets/breast+cancer+wisconsin+(original)"
   ]
  },
  {
   "cell_type": "markdown",
   "metadata": {},
   "source": [
    "**Priting first few rows of dataset**"
   ]
  },
  {
   "cell_type": "code",
   "execution_count": 123,
   "metadata": {},
   "outputs": [
    {
     "data": {
      "text/html": [
       "<div>\n",
       "<style scoped>\n",
       "    .dataframe tbody tr th:only-of-type {\n",
       "        vertical-align: middle;\n",
       "    }\n",
       "\n",
       "    .dataframe tbody tr th {\n",
       "        vertical-align: top;\n",
       "    }\n",
       "\n",
       "    .dataframe thead th {\n",
       "        text-align: right;\n",
       "    }\n",
       "</style>\n",
       "<table border=\"1\" class=\"dataframe\">\n",
       "  <thead>\n",
       "    <tr style=\"text-align: right;\">\n",
       "      <th></th>\n",
       "      <th>Code</th>\n",
       "      <th>Clump</th>\n",
       "      <th>UniCell_Size</th>\n",
       "      <th>Uni_CellShape</th>\n",
       "      <th>MargAdh</th>\n",
       "      <th>SEpith</th>\n",
       "      <th>BareN</th>\n",
       "      <th>BChromatin</th>\n",
       "      <th>NoemN</th>\n",
       "      <th>Mitoses</th>\n",
       "      <th>Class</th>\n",
       "    </tr>\n",
       "  </thead>\n",
       "  <tbody>\n",
       "    <tr>\n",
       "      <td>0</td>\n",
       "      <td>61634</td>\n",
       "      <td>5</td>\n",
       "      <td>4</td>\n",
       "      <td>3</td>\n",
       "      <td>1</td>\n",
       "      <td>2</td>\n",
       "      <td>2</td>\n",
       "      <td>2</td>\n",
       "      <td>3</td>\n",
       "      <td>1</td>\n",
       "      <td>Benign</td>\n",
       "    </tr>\n",
       "    <tr>\n",
       "      <td>1</td>\n",
       "      <td>63375</td>\n",
       "      <td>9</td>\n",
       "      <td>1</td>\n",
       "      <td>2</td>\n",
       "      <td>6</td>\n",
       "      <td>4</td>\n",
       "      <td>10</td>\n",
       "      <td>7</td>\n",
       "      <td>7</td>\n",
       "      <td>2</td>\n",
       "      <td>Malignant</td>\n",
       "    </tr>\n",
       "    <tr>\n",
       "      <td>2</td>\n",
       "      <td>76389</td>\n",
       "      <td>10</td>\n",
       "      <td>4</td>\n",
       "      <td>7</td>\n",
       "      <td>2</td>\n",
       "      <td>2</td>\n",
       "      <td>8</td>\n",
       "      <td>6</td>\n",
       "      <td>1</td>\n",
       "      <td>1</td>\n",
       "      <td>Malignant</td>\n",
       "    </tr>\n",
       "    <tr>\n",
       "      <td>3</td>\n",
       "      <td>95719</td>\n",
       "      <td>6</td>\n",
       "      <td>10</td>\n",
       "      <td>10</td>\n",
       "      <td>10</td>\n",
       "      <td>8</td>\n",
       "      <td>10</td>\n",
       "      <td>7</td>\n",
       "      <td>10</td>\n",
       "      <td>7</td>\n",
       "      <td>Malignant</td>\n",
       "    </tr>\n",
       "    <tr>\n",
       "      <td>4</td>\n",
       "      <td>128059</td>\n",
       "      <td>1</td>\n",
       "      <td>1</td>\n",
       "      <td>1</td>\n",
       "      <td>1</td>\n",
       "      <td>2</td>\n",
       "      <td>5</td>\n",
       "      <td>5</td>\n",
       "      <td>1</td>\n",
       "      <td>1</td>\n",
       "      <td>Benign</td>\n",
       "    </tr>\n",
       "  </tbody>\n",
       "</table>\n",
       "</div>"
      ],
      "text/plain": [
       "     Code  Clump  UniCell_Size  Uni_CellShape  MargAdh  SEpith  BareN  \\\n",
       "0   61634      5             4              3        1       2      2   \n",
       "1   63375      9             1              2        6       4     10   \n",
       "2   76389     10             4              7        2       2      8   \n",
       "3   95719      6            10             10       10       8     10   \n",
       "4  128059      1             1              1        1       2      5   \n",
       "\n",
       "   BChromatin  NoemN  Mitoses      Class  \n",
       "0           2      3        1     Benign  \n",
       "1           7      7        2  Malignant  \n",
       "2           6      1        1  Malignant  \n",
       "3           7     10        7  Malignant  \n",
       "4           5      1        1     Benign  "
      ]
     },
     "execution_count": 123,
     "metadata": {},
     "output_type": "execute_result"
    }
   ],
   "source": [
    "df.head()"
   ]
  },
  {
   "cell_type": "markdown",
   "metadata": {},
   "source": [
    "**Checking the number of rows and columns in the dataset**"
   ]
  },
  {
   "cell_type": "code",
   "execution_count": 124,
   "metadata": {},
   "outputs": [
    {
     "data": {
      "text/plain": [
       "(699, 11)"
      ]
     },
     "execution_count": 124,
     "metadata": {},
     "output_type": "execute_result"
    }
   ],
   "source": [
    "df.shape"
   ]
  },
  {
   "cell_type": "code",
   "execution_count": 125,
   "metadata": {},
   "outputs": [
    {
     "data": {
      "text/plain": [
       "Code             0\n",
       "Clump            0\n",
       "UniCell_Size     0\n",
       "Uni_CellShape    0\n",
       "MargAdh          0\n",
       "SEpith           0\n",
       "BareN            0\n",
       "BChromatin       0\n",
       "NoemN            0\n",
       "Mitoses          0\n",
       "Class            0\n",
       "dtype: int64"
      ]
     },
     "execution_count": 125,
     "metadata": {},
     "output_type": "execute_result"
    }
   ],
   "source": [
    "df.isnull().sum()"
   ]
  },
  {
   "cell_type": "markdown",
   "metadata": {},
   "source": [
    "**Converting categorical variables into numeric format**"
   ]
  },
  {
   "cell_type": "code",
   "execution_count": 126,
   "metadata": {},
   "outputs": [],
   "source": [
    "df = pd.get_dummies(df, drop_first=True)"
   ]
  },
  {
   "cell_type": "code",
   "execution_count": 127,
   "metadata": {},
   "outputs": [
    {
     "data": {
      "text/html": [
       "<div>\n",
       "<style scoped>\n",
       "    .dataframe tbody tr th:only-of-type {\n",
       "        vertical-align: middle;\n",
       "    }\n",
       "\n",
       "    .dataframe tbody tr th {\n",
       "        vertical-align: top;\n",
       "    }\n",
       "\n",
       "    .dataframe thead th {\n",
       "        text-align: right;\n",
       "    }\n",
       "</style>\n",
       "<table border=\"1\" class=\"dataframe\">\n",
       "  <thead>\n",
       "    <tr style=\"text-align: right;\">\n",
       "      <th></th>\n",
       "      <th>Code</th>\n",
       "      <th>Clump</th>\n",
       "      <th>UniCell_Size</th>\n",
       "      <th>Uni_CellShape</th>\n",
       "      <th>MargAdh</th>\n",
       "      <th>SEpith</th>\n",
       "      <th>BareN</th>\n",
       "      <th>BChromatin</th>\n",
       "      <th>NoemN</th>\n",
       "      <th>Mitoses</th>\n",
       "      <th>Class_Malignant</th>\n",
       "    </tr>\n",
       "  </thead>\n",
       "  <tbody>\n",
       "    <tr>\n",
       "      <td>0</td>\n",
       "      <td>61634</td>\n",
       "      <td>5</td>\n",
       "      <td>4</td>\n",
       "      <td>3</td>\n",
       "      <td>1</td>\n",
       "      <td>2</td>\n",
       "      <td>2</td>\n",
       "      <td>2</td>\n",
       "      <td>3</td>\n",
       "      <td>1</td>\n",
       "      <td>0</td>\n",
       "    </tr>\n",
       "    <tr>\n",
       "      <td>1</td>\n",
       "      <td>63375</td>\n",
       "      <td>9</td>\n",
       "      <td>1</td>\n",
       "      <td>2</td>\n",
       "      <td>6</td>\n",
       "      <td>4</td>\n",
       "      <td>10</td>\n",
       "      <td>7</td>\n",
       "      <td>7</td>\n",
       "      <td>2</td>\n",
       "      <td>1</td>\n",
       "    </tr>\n",
       "    <tr>\n",
       "      <td>2</td>\n",
       "      <td>76389</td>\n",
       "      <td>10</td>\n",
       "      <td>4</td>\n",
       "      <td>7</td>\n",
       "      <td>2</td>\n",
       "      <td>2</td>\n",
       "      <td>8</td>\n",
       "      <td>6</td>\n",
       "      <td>1</td>\n",
       "      <td>1</td>\n",
       "      <td>1</td>\n",
       "    </tr>\n",
       "    <tr>\n",
       "      <td>3</td>\n",
       "      <td>95719</td>\n",
       "      <td>6</td>\n",
       "      <td>10</td>\n",
       "      <td>10</td>\n",
       "      <td>10</td>\n",
       "      <td>8</td>\n",
       "      <td>10</td>\n",
       "      <td>7</td>\n",
       "      <td>10</td>\n",
       "      <td>7</td>\n",
       "      <td>1</td>\n",
       "    </tr>\n",
       "    <tr>\n",
       "      <td>4</td>\n",
       "      <td>128059</td>\n",
       "      <td>1</td>\n",
       "      <td>1</td>\n",
       "      <td>1</td>\n",
       "      <td>1</td>\n",
       "      <td>2</td>\n",
       "      <td>5</td>\n",
       "      <td>5</td>\n",
       "      <td>1</td>\n",
       "      <td>1</td>\n",
       "      <td>0</td>\n",
       "    </tr>\n",
       "  </tbody>\n",
       "</table>\n",
       "</div>"
      ],
      "text/plain": [
       "     Code  Clump  UniCell_Size  Uni_CellShape  MargAdh  SEpith  BareN  \\\n",
       "0   61634      5             4              3        1       2      2   \n",
       "1   63375      9             1              2        6       4     10   \n",
       "2   76389     10             4              7        2       2      8   \n",
       "3   95719      6            10             10       10       8     10   \n",
       "4  128059      1             1              1        1       2      5   \n",
       "\n",
       "   BChromatin  NoemN  Mitoses  Class_Malignant  \n",
       "0           2      3        1                0  \n",
       "1           7      7        2                1  \n",
       "2           6      1        1                1  \n",
       "3           7     10        7                1  \n",
       "4           5      1        1                0  "
      ]
     },
     "execution_count": 127,
     "metadata": {},
     "output_type": "execute_result"
    }
   ],
   "source": [
    "df.head()"
   ]
  },
  {
   "cell_type": "markdown",
   "metadata": {},
   "source": [
    "**Plotting Heatmap showing correlation between different features**"
   ]
  },
  {
   "cell_type": "code",
   "execution_count": 128,
   "metadata": {},
   "outputs": [
    {
     "data": {
      "text/plain": [
       "<matplotlib.axes._subplots.AxesSubplot at 0x1aa2c27d3c8>"
      ]
     },
     "execution_count": 128,
     "metadata": {},
     "output_type": "execute_result"
    },
    {
     "data": {
      "image/png": "[encoded data removed]",
      "text/plain": [
       "<Figure size 432x288 with 2 Axes>"
      ]
     },
     "metadata": {
      "needs_background": "light"
     },
     "output_type": "display_data"
    }
   ],
   "source": [
    "import seaborn as sns\n",
    "sns.heatmap(df.corr(),mask= np.triu(np.ones_like(df.corr(), dtype=bool)), \n",
    "            cmap=sns.diverging_palette(230, 20, as_cmap=True),\n",
    "            square=True, linewidths=.5, cbar_kws={\"shrink\": .5})"
   ]
  },
  {
   "cell_type": "markdown",
   "metadata": {},
   "source": [
    "- From heatmap it is clear that there is very less/slight negative correlation between code and other features including the response feature as well. So we can drop that feature. \n",
    "- There seems high correlation of Unicell_Size, Unicell_Shape and Bare Nuclei with target variable. "
   ]
  },
  {
   "cell_type": "markdown",
   "metadata": {},
   "source": [
    "**Dropping Code feature**"
   ]
  },
  {
   "cell_type": "code",
   "execution_count": 129,
   "metadata": {},
   "outputs": [],
   "source": [
    "df = df.drop(['Code'], axis=1)"
   ]
  },
  {
   "cell_type": "markdown",
   "metadata": {},
   "source": [
    "**Printing Column names of a dataframe**"
   ]
  },
  {
   "cell_type": "code",
   "execution_count": 130,
   "metadata": {},
   "outputs": [
    {
     "data": {
      "text/plain": [
       "Index(['Clump', 'UniCell_Size', 'Uni_CellShape', 'MargAdh', 'SEpith', 'BareN',\n",
       "       'BChromatin', 'NoemN', 'Mitoses', 'Class_Malignant'],\n",
       "      dtype='object')"
      ]
     },
     "execution_count": 130,
     "metadata": {},
     "output_type": "execute_result"
    }
   ],
   "source": [
    "df.columns"
   ]
  },
  {
   "cell_type": "markdown",
   "metadata": {},
   "source": [
    "**Data type of each column**"
   ]
  },
  {
   "cell_type": "code",
   "execution_count": 131,
   "metadata": {},
   "outputs": [
    {
     "data": {
      "text/plain": [
       "Clump              int64\n",
       "UniCell_Size       int64\n",
       "Uni_CellShape      int64\n",
       "MargAdh            int64\n",
       "SEpith             int64\n",
       "BareN              int64\n",
       "BChromatin         int64\n",
       "NoemN              int64\n",
       "Mitoses            int64\n",
       "Class_Malignant    uint8\n",
       "dtype: object"
      ]
     },
     "execution_count": 131,
     "metadata": {},
     "output_type": "execute_result"
    }
   ],
   "source": [
    "df.dtypes"
   ]
  },
  {
   "cell_type": "markdown",
   "metadata": {},
   "source": [
    "**Creating X and y variables which will contain input variables and output/response variable**"
   ]
  },
  {
   "cell_type": "code",
   "execution_count": 132,
   "metadata": {},
   "outputs": [],
   "source": [
    "X = df.iloc[:,:-1]\n",
    "y = df.iloc[:,-1]"
   ]
  },
  {
   "cell_type": "markdown",
   "metadata": {},
   "source": [
    "**Splitting data into train and test sets**"
   ]
  },
  {
   "cell_type": "code",
   "execution_count": 133,
   "metadata": {},
   "outputs": [],
   "source": [
    "X_train, X_test, y_train, y_test = train_test_split(X, y, test_size=0.3, stratify=y, random_state=2018)"
   ]
  },
  {
   "cell_type": "markdown",
   "metadata": {},
   "source": [
    "Parameters:\n",
    "   - X: Input variables(data)\n",
    "   - y: Output/Response Varible\n",
    "   - test_size = train-test ratio\n",
    "   - stratify = to have the same ratio of output variable in train and test data\n",
    "   - random_state = train_test_split will return same results for each execution"
   ]
  },
  {
   "cell_type": "markdown",
   "metadata": {},
   "source": [
    "**Printing the shape of train and test data(inputs)**"
   ]
  },
  {
   "cell_type": "code",
   "execution_count": 134,
   "metadata": {},
   "outputs": [
    {
     "data": {
      "text/plain": [
       "((210, 9), (489, 9))"
      ]
     },
     "execution_count": 134,
     "metadata": {},
     "output_type": "execute_result"
    }
   ],
   "source": [
    "X_test.shape, X_train.shape"
   ]
  },
  {
   "cell_type": "markdown",
   "metadata": {},
   "source": [
    "**Creating an instance of DecisionTreeClassifier**"
   ]
  },
  {
   "cell_type": "code",
   "execution_count": 135,
   "metadata": {},
   "outputs": [],
   "source": [
    "classifier = DecisionTreeClassifier(max_depth=4)"
   ]
  },
  {
   "cell_type": "markdown",
   "metadata": {},
   "source": [
    "Here we are setting only max_depth as 4 as if we dont set max_depth, tree will be expanded untill all leaves contain less than *min_sample_split* samples which is by default 2.\n"
   ]
  },
  {
   "cell_type": "markdown",
   "metadata": {},
   "source": [
    "**Fitting model on train data**"
   ]
  },
  {
   "cell_type": "code",
   "execution_count": 136,
   "metadata": {},
   "outputs": [
    {
     "data": {
      "text/plain": [
       "DecisionTreeClassifier(max_depth=4)"
      ]
     },
     "execution_count": 136,
     "metadata": {},
     "output_type": "execute_result"
    }
   ],
   "source": [
    "classifier.fit(X_train, y_train)"
   ]
  },
  {
   "cell_type": "markdown",
   "metadata": {},
   "source": [
    "**Making Prediction about test data**"
   ]
  },
  {
   "cell_type": "code",
   "execution_count": 137,
   "metadata": {},
   "outputs": [],
   "source": [
    "predictions = classifier.predict(X_test)"
   ]
  },
  {
   "cell_type": "markdown",
   "metadata": {},
   "source": [
    "**Checking for False Positives, False Negatives, True positives and True Negatives using Confusion matrix**"
   ]
  },
  {
   "cell_type": "code",
   "execution_count": 138,
   "metadata": {},
   "outputs": [
    {
     "name": "stdout",
     "output_type": "stream",
     "text": [
      "[[130   8]\n",
      " [  6  66]]\n"
     ]
    }
   ],
   "source": [
    "print(confusion_matrix(y_test, predictions))"
   ]
  },
  {
   "cell_type": "markdown",
   "metadata": {},
   "source": [
    "**Printing Accuracy score of the model**"
   ]
  },
  {
   "cell_type": "code",
   "execution_count": 139,
   "metadata": {},
   "outputs": [
    {
     "data": {
      "text/plain": [
       "0.9333333333333333"
      ]
     },
     "execution_count": 139,
     "metadata": {},
     "output_type": "execute_result"
    }
   ],
   "source": [
    "accuracy_score(predictions, y_test)"
   ]
  },
  {
   "cell_type": "code",
   "execution_count": 140,
   "metadata": {},
   "outputs": [
    {
     "name": "stdout",
     "output_type": "stream",
     "text": [
      "              precision    recall  f1-score   support\n",
      "\n",
      "           0       0.96      0.94      0.95       138\n",
      "           1       0.89      0.92      0.90        72\n",
      "\n",
      "    accuracy                           0.93       210\n",
      "   macro avg       0.92      0.93      0.93       210\n",
      "weighted avg       0.93      0.93      0.93       210\n",
      "\n"
     ]
    }
   ],
   "source": [
    "print(classification_report(y_test, predictions))"
   ]
  },
  {
   "cell_type": "code",
   "execution_count": 141,
   "metadata": {},
   "outputs": [
    {
     "data": {
      "text/plain": [
       "<sklearn.metrics._plot.confusion_matrix.ConfusionMatrixDisplay at 0x1aa2c244390>"
      ]
     },
     "execution_count": 141,
     "metadata": {},
     "output_type": "execute_result"
    },
    {
     "data": {
      "image/png": "[encoded data removed]",
      "text/plain": [
       "<Figure size 432x288 with 2 Axes>"
      ]
     },
     "metadata": {
      "needs_background": "light"
     },
     "output_type": "display_data"
    }
   ],
   "source": [
    "from sklearn.metrics import plot_confusion_matrix\n",
    "plot_confusion_matrix(classifier,X_test,y_test,display_labels=['Benign','Malignant'])"
   ]
  },
  {
   "cell_type": "markdown",
   "metadata": {},
   "source": [
    "**Below code visualizes the tree with different parameters which are used for selection of feature as root node and other nodes**"
   ]
  },
  {
   "cell_type": "code",
   "execution_count": 142,
   "metadata": {},
   "outputs": [
    {
     "data": {
      "image/svg+xml": [
       "<?xml version=\"1.0\" encoding=\"UTF-8\" standalone=\"no\"?>\r\n",
       "<!DOCTYPE svg PUBLIC \"-//W3C//DTD SVG 1.1//EN\"\r\n",
       " \"http://www.w3.org/Graphics/SVG/1.1/DTD/svg11.dtd\">\r\n",
       "<!-- Generated by graphviz version 2.38.0 (20140413.2041)\r\n",
       " -->\r\n",
       "<!-- Title: Tree Pages: 1 -->\r\n",
       "<svg width=\"1222pt\" height=\"552pt\"\r\n",
       " viewBox=\"0.00 0.00 1222.00 552.00\" xmlns=\"http://www.w3.org/2000/svg\" xmlns:xlink=\"http://www.w3.org/1999/xlink\">\r\n",
       "<g id=\"graph0\" class=\"graph\" transform=\"scale(1 1) rotate(0) translate(4 548)\">\r\n",
       "<title>Tree</title>\r\n",
       "<polygon fill=\"white\" stroke=\"none\" points=\"-4,4 -4,-548 1218,-548 1218,4 -4,4\"/>\r\n",
       "<!-- 0 -->\r\n",
       "<g id=\"node1\" class=\"node\"><title>0</title>\r\n",
       "<path fill=\"#f3c4a2\" stroke=\"black\" d=\"M543,-544C543,-544 434,-544 434,-544 428,-544 422,-538 422,-532 422,-532 422,-473 422,-473 422,-467 428,-461 434,-461 434,-461 543,-461 543,-461 549,-461 555,-467 555,-473 555,-473 555,-532 555,-532 555,-538 549,-544 543,-544\"/>\r\n",
       "<text text-anchor=\"start\" x=\"430\" y=\"-528.8\" font-family=\"Helvetica,sans-Serif\" font-size=\"14.00\">UniCell_Size ≤ 2.5</text>\r\n",
       "<text text-anchor=\"start\" x=\"451\" y=\"-513.8\" font-family=\"Helvetica,sans-Serif\" font-size=\"14.00\">gini = 0.452</text>\r\n",
       "<text text-anchor=\"start\" x=\"441\" y=\"-498.8\" font-family=\"Helvetica,sans-Serif\" font-size=\"14.00\">samples = 489</text>\r\n",
       "<text text-anchor=\"start\" x=\"431.5\" y=\"-483.8\" font-family=\"Helvetica,sans-Serif\" font-size=\"14.00\">value = [320, 169]</text>\r\n",
       "<text text-anchor=\"start\" x=\"441.5\" y=\"-468.8\" font-family=\"Helvetica,sans-Serif\" font-size=\"14.00\">class = Benign</text>\r\n",
       "</g>\r\n",
       "<!-- 1 -->\r\n",
       "<g id=\"node2\" class=\"node\"><title>1</title>\r\n",
       "<path fill=\"#e5833c\" stroke=\"black\" d=\"M429,-425C429,-425 340,-425 340,-425 334,-425 328,-419 328,-413 328,-413 328,-354 328,-354 328,-348 334,-342 340,-342 340,-342 429,-342 429,-342 435,-342 441,-348 441,-354 441,-354 441,-413 441,-413 441,-419 435,-425 429,-425\"/>\r\n",
       "<text text-anchor=\"start\" x=\"346\" y=\"-409.8\" font-family=\"Helvetica,sans-Serif\" font-size=\"14.00\">Clump ≤ 6.5</text>\r\n",
       "<text text-anchor=\"start\" x=\"347\" y=\"-394.8\" font-family=\"Helvetica,sans-Serif\" font-size=\"14.00\">gini = 0.033</text>\r\n",
       "<text text-anchor=\"start\" x=\"337\" y=\"-379.8\" font-family=\"Helvetica,sans-Serif\" font-size=\"14.00\">samples = 298</text>\r\n",
       "<text text-anchor=\"start\" x=\"336\" y=\"-364.8\" font-family=\"Helvetica,sans-Serif\" font-size=\"14.00\">value = [293, 5]</text>\r\n",
       "<text text-anchor=\"start\" x=\"337.5\" y=\"-349.8\" font-family=\"Helvetica,sans-Serif\" font-size=\"14.00\">class = Benign</text>\r\n",
       "</g>\r\n",
       "<!-- 0&#45;&gt;1 -->\r\n",
       "<g id=\"edge1\" class=\"edge\"><title>0&#45;&gt;1</title>\r\n",
       "<path fill=\"none\" stroke=\"black\" d=\"M452.418,-460.907C444.351,-451.832 435.719,-442.121 427.406,-432.769\"/>\r\n",
       "<polygon fill=\"black\" stroke=\"black\" points=\"429.778,-430.17 420.518,-425.021 424.546,-434.82 429.778,-430.17\"/>\r\n",
       "<text text-anchor=\"middle\" x=\"419.05\" y=\"-446.278\" font-family=\"Helvetica,sans-Serif\" font-size=\"14.00\">True</text>\r\n",
       "</g>\r\n",
       "<!-- 10 -->\r\n",
       "<g id=\"node11\" class=\"node\"><title>10</title>\r\n",
       "<path fill=\"#5aade9\" stroke=\"black\" d=\"M653.5,-425C653.5,-425 531.5,-425 531.5,-425 525.5,-425 519.5,-419 519.5,-413 519.5,-413 519.5,-354 519.5,-354 519.5,-348 525.5,-342 531.5,-342 531.5,-342 653.5,-342 653.5,-342 659.5,-342 665.5,-348 665.5,-354 665.5,-354 665.5,-413 665.5,-413 665.5,-419 659.5,-425 653.5,-425\"/>\r\n",
       "<text text-anchor=\"start\" x=\"527.5\" y=\"-409.8\" font-family=\"Helvetica,sans-Serif\" font-size=\"14.00\">Uni_CellShape ≤ 2.5</text>\r\n",
       "<text text-anchor=\"start\" x=\"555\" y=\"-394.8\" font-family=\"Helvetica,sans-Serif\" font-size=\"14.00\">gini = 0.243</text>\r\n",
       "<text text-anchor=\"start\" x=\"545\" y=\"-379.8\" font-family=\"Helvetica,sans-Serif\" font-size=\"14.00\">samples = 191</text>\r\n",
       "<text text-anchor=\"start\" x=\"539.5\" y=\"-364.8\" font-family=\"Helvetica,sans-Serif\" font-size=\"14.00\">value = [27, 164]</text>\r\n",
       "<text text-anchor=\"start\" x=\"538\" y=\"-349.8\" font-family=\"Helvetica,sans-Serif\" font-size=\"14.00\">class = Malignant</text>\r\n",
       "</g>\r\n",
       "<!-- 0&#45;&gt;10 -->\r\n",
       "<g id=\"edge10\" class=\"edge\"><title>0&#45;&gt;10</title>\r\n",
       "<path fill=\"none\" stroke=\"black\" d=\"M524.582,-460.907C532.649,-451.832 541.281,-442.121 549.594,-432.769\"/>\r\n",
       "<polygon fill=\"black\" stroke=\"black\" points=\"552.454,-434.82 556.482,-425.021 547.222,-430.17 552.454,-434.82\"/>\r\n",
       "<text text-anchor=\"middle\" x=\"557.95\" y=\"-446.278\" font-family=\"Helvetica,sans-Serif\" font-size=\"14.00\">False</text>\r\n",
       "</g>\r\n",
       "<!-- 2 -->\r\n",
       "<g id=\"node3\" class=\"node\"><title>2</title>\r\n",
       "<path fill=\"#e5813a\" stroke=\"black\" d=\"M231,-306C231,-306 142,-306 142,-306 136,-306 130,-300 130,-294 130,-294 130,-235 130,-235 130,-229 136,-223 142,-223 142,-223 231,-223 231,-223 237,-223 243,-229 243,-235 243,-235 243,-294 243,-294 243,-300 237,-306 231,-306\"/>\r\n",
       "<text text-anchor=\"start\" x=\"148.5\" y=\"-290.8\" font-family=\"Helvetica,sans-Serif\" font-size=\"14.00\">BareN ≤ 6.5</text>\r\n",
       "<text text-anchor=\"start\" x=\"149\" y=\"-275.8\" font-family=\"Helvetica,sans-Serif\" font-size=\"14.00\">gini = 0.007</text>\r\n",
       "<text text-anchor=\"start\" x=\"139\" y=\"-260.8\" font-family=\"Helvetica,sans-Serif\" font-size=\"14.00\">samples = 292</text>\r\n",
       "<text text-anchor=\"start\" x=\"138\" y=\"-245.8\" font-family=\"Helvetica,sans-Serif\" font-size=\"14.00\">value = [291, 1]</text>\r\n",
       "<text text-anchor=\"start\" x=\"139.5\" y=\"-230.8\" font-family=\"Helvetica,sans-Serif\" font-size=\"14.00\">class = Benign</text>\r\n",
       "</g>\r\n",
       "<!-- 1&#45;&gt;2 -->\r\n",
       "<g id=\"edge2\" class=\"edge\"><title>1&#45;&gt;2</title>\r\n",
       "<path fill=\"none\" stroke=\"black\" d=\"M327.761,-348.972C304.149,-335.02 276.589,-318.734 252.112,-304.271\"/>\r\n",
       "<polygon fill=\"black\" stroke=\"black\" points=\"253.637,-301.106 243.247,-299.032 250.076,-307.133 253.637,-301.106\"/>\r\n",
       "</g>\r\n",
       "<!-- 7 -->\r\n",
       "<g id=\"node8\" class=\"node\"><title>7</title>\r\n",
       "<path fill=\"#9ccef2\" stroke=\"black\" d=\"M435.5,-306C435.5,-306 333.5,-306 333.5,-306 327.5,-306 321.5,-300 321.5,-294 321.5,-294 321.5,-235 321.5,-235 321.5,-229 327.5,-223 333.5,-223 333.5,-223 435.5,-223 435.5,-223 441.5,-223 447.5,-229 447.5,-235 447.5,-235 447.5,-294 447.5,-294 447.5,-300 441.5,-306 435.5,-306\"/>\r\n",
       "<text text-anchor=\"start\" x=\"329.5\" y=\"-290.8\" font-family=\"Helvetica,sans-Serif\" font-size=\"14.00\">BChromatin ≤ 2.5</text>\r\n",
       "<text text-anchor=\"start\" x=\"347\" y=\"-275.8\" font-family=\"Helvetica,sans-Serif\" font-size=\"14.00\">gini = 0.444</text>\r\n",
       "<text text-anchor=\"start\" x=\"345\" y=\"-260.8\" font-family=\"Helvetica,sans-Serif\" font-size=\"14.00\">samples = 6</text>\r\n",
       "<text text-anchor=\"start\" x=\"344\" y=\"-245.8\" font-family=\"Helvetica,sans-Serif\" font-size=\"14.00\">value = [2, 4]</text>\r\n",
       "<text text-anchor=\"start\" x=\"330\" y=\"-230.8\" font-family=\"Helvetica,sans-Serif\" font-size=\"14.00\">class = Malignant</text>\r\n",
       "</g>\r\n",
       "<!-- 1&#45;&gt;7 -->\r\n",
       "<g id=\"edge7\" class=\"edge\"><title>1&#45;&gt;7</title>\r\n",
       "<path fill=\"none\" stroke=\"black\" d=\"M384.5,-341.907C384.5,-333.649 384.5,-324.864 384.5,-316.302\"/>\r\n",
       "<polygon fill=\"black\" stroke=\"black\" points=\"388,-316.021 384.5,-306.021 381,-316.021 388,-316.021\"/>\r\n",
       "</g>\r\n",
       "<!-- 3 -->\r\n",
       "<g id=\"node4\" class=\"node\"><title>3</title>\r\n",
       "<path fill=\"#e58139\" stroke=\"black\" d=\"M101,-179.5C101,-179.5 12,-179.5 12,-179.5 6,-179.5 0,-173.5 0,-167.5 0,-167.5 0,-123.5 0,-123.5 0,-117.5 6,-111.5 12,-111.5 12,-111.5 101,-111.5 101,-111.5 107,-111.5 113,-117.5 113,-123.5 113,-123.5 113,-167.5 113,-167.5 113,-173.5 107,-179.5 101,-179.5\"/>\r\n",
       "<text text-anchor=\"start\" x=\"27.5\" y=\"-164.3\" font-family=\"Helvetica,sans-Serif\" font-size=\"14.00\">gini = 0.0</text>\r\n",
       "<text text-anchor=\"start\" x=\"9\" y=\"-149.3\" font-family=\"Helvetica,sans-Serif\" font-size=\"14.00\">samples = 290</text>\r\n",
       "<text text-anchor=\"start\" x=\"8\" y=\"-134.3\" font-family=\"Helvetica,sans-Serif\" font-size=\"14.00\">value = [290, 0]</text>\r\n",
       "<text text-anchor=\"start\" x=\"9.5\" y=\"-119.3\" font-family=\"Helvetica,sans-Serif\" font-size=\"14.00\">class = Benign</text>\r\n",
       "</g>\r\n",
       "<!-- 2&#45;&gt;3 -->\r\n",
       "<g id=\"edge3\" class=\"edge\"><title>2&#45;&gt;3</title>\r\n",
       "<path fill=\"none\" stroke=\"black\" d=\"M141.397,-222.907C128.278,-211.101 113.963,-198.217 100.888,-186.45\"/>\r\n",
       "<polygon fill=\"black\" stroke=\"black\" points=\"103.127,-183.755 93.3522,-179.667 98.4437,-188.958 103.127,-183.755\"/>\r\n",
       "</g>\r\n",
       "<!-- 4 -->\r\n",
       "<g id=\"node5\" class=\"node\"><title>4</title>\r\n",
       "<path fill=\"#ffffff\" stroke=\"black\" d=\"M229.5,-187C229.5,-187 143.5,-187 143.5,-187 137.5,-187 131.5,-181 131.5,-175 131.5,-175 131.5,-116 131.5,-116 131.5,-110 137.5,-104 143.5,-104 143.5,-104 229.5,-104 229.5,-104 235.5,-104 241.5,-110 241.5,-116 241.5,-116 241.5,-175 241.5,-175 241.5,-181 235.5,-187 229.5,-187\"/>\r\n",
       "<text text-anchor=\"start\" x=\"148.5\" y=\"-171.8\" font-family=\"Helvetica,sans-Serif\" font-size=\"14.00\">BareN ≤ 9.0</text>\r\n",
       "<text text-anchor=\"start\" x=\"157.5\" y=\"-156.8\" font-family=\"Helvetica,sans-Serif\" font-size=\"14.00\">gini = 0.5</text>\r\n",
       "<text text-anchor=\"start\" x=\"147\" y=\"-141.8\" font-family=\"Helvetica,sans-Serif\" font-size=\"14.00\">samples = 2</text>\r\n",
       "<text text-anchor=\"start\" x=\"146\" y=\"-126.8\" font-family=\"Helvetica,sans-Serif\" font-size=\"14.00\">value = [1, 1]</text>\r\n",
       "<text text-anchor=\"start\" x=\"139.5\" y=\"-111.8\" font-family=\"Helvetica,sans-Serif\" font-size=\"14.00\">class = Benign</text>\r\n",
       "</g>\r\n",
       "<!-- 2&#45;&gt;4 -->\r\n",
       "<g id=\"edge4\" class=\"edge\"><title>2&#45;&gt;4</title>\r\n",
       "<path fill=\"none\" stroke=\"black\" d=\"M186.5,-222.907C186.5,-214.649 186.5,-205.864 186.5,-197.302\"/>\r\n",
       "<polygon fill=\"black\" stroke=\"black\" points=\"190,-197.021 186.5,-187.021 183,-197.021 190,-197.021\"/>\r\n",
       "</g>\r\n",
       "<!-- 5 -->\r\n",
       "<g id=\"node6\" class=\"node\"><title>5</title>\r\n",
       "<path fill=\"#399de5\" stroke=\"black\" d=\"M169,-68C169,-68 68,-68 68,-68 62,-68 56,-62 56,-56 56,-56 56,-12 56,-12 56,-6 62,-0 68,-0 68,-0 169,-0 169,-0 175,-0 181,-6 181,-12 181,-12 181,-56 181,-56 181,-62 175,-68 169,-68\"/>\r\n",
       "<text text-anchor=\"start\" x=\"89.5\" y=\"-52.8\" font-family=\"Helvetica,sans-Serif\" font-size=\"14.00\">gini = 0.0</text>\r\n",
       "<text text-anchor=\"start\" x=\"79\" y=\"-37.8\" font-family=\"Helvetica,sans-Serif\" font-size=\"14.00\">samples = 1</text>\r\n",
       "<text text-anchor=\"start\" x=\"78\" y=\"-22.8\" font-family=\"Helvetica,sans-Serif\" font-size=\"14.00\">value = [0, 1]</text>\r\n",
       "<text text-anchor=\"start\" x=\"64\" y=\"-7.8\" font-family=\"Helvetica,sans-Serif\" font-size=\"14.00\">class = Malignant</text>\r\n",
       "</g>\r\n",
       "<!-- 4&#45;&gt;5 -->\r\n",
       "<g id=\"edge5\" class=\"edge\"><title>4&#45;&gt;5</title>\r\n",
       "<path fill=\"none\" stroke=\"black\" d=\"M161.179,-103.726C155.742,-94.9703 149.987,-85.7032 144.523,-76.9051\"/>\r\n",
       "<polygon fill=\"black\" stroke=\"black\" points=\"147.428,-74.9484 139.179,-68.2996 141.481,-78.6413 147.428,-74.9484\"/>\r\n",
       "</g>\r\n",
       "<!-- 6 -->\r\n",
       "<g id=\"node7\" class=\"node\"><title>6</title>\r\n",
       "<path fill=\"#e58139\" stroke=\"black\" d=\"M297.5,-68C297.5,-68 211.5,-68 211.5,-68 205.5,-68 199.5,-62 199.5,-56 199.5,-56 199.5,-12 199.5,-12 199.5,-6 205.5,-0 211.5,-0 211.5,-0 297.5,-0 297.5,-0 303.5,-0 309.5,-6 309.5,-12 309.5,-12 309.5,-56 309.5,-56 309.5,-62 303.5,-68 297.5,-68\"/>\r\n",
       "<text text-anchor=\"start\" x=\"225.5\" y=\"-52.8\" font-family=\"Helvetica,sans-Serif\" font-size=\"14.00\">gini = 0.0</text>\r\n",
       "<text text-anchor=\"start\" x=\"215\" y=\"-37.8\" font-family=\"Helvetica,sans-Serif\" font-size=\"14.00\">samples = 1</text>\r\n",
       "<text text-anchor=\"start\" x=\"214\" y=\"-22.8\" font-family=\"Helvetica,sans-Serif\" font-size=\"14.00\">value = [1, 0]</text>\r\n",
       "<text text-anchor=\"start\" x=\"207.5\" y=\"-7.8\" font-family=\"Helvetica,sans-Serif\" font-size=\"14.00\">class = Benign</text>\r\n",
       "</g>\r\n",
       "<!-- 4&#45;&gt;6 -->\r\n",
       "<g id=\"edge6\" class=\"edge\"><title>4&#45;&gt;6</title>\r\n",
       "<path fill=\"none\" stroke=\"black\" d=\"M211.821,-103.726C217.258,-94.9703 223.013,-85.7032 228.477,-76.9051\"/>\r\n",
       "<polygon fill=\"black\" stroke=\"black\" points=\"231.519,-78.6413 233.821,-68.2996 225.572,-74.9484 231.519,-78.6413\"/>\r\n",
       "</g>\r\n",
       "<!-- 8 -->\r\n",
       "<g id=\"node9\" class=\"node\"><title>8</title>\r\n",
       "<path fill=\"#e58139\" stroke=\"black\" d=\"M357.5,-179.5C357.5,-179.5 271.5,-179.5 271.5,-179.5 265.5,-179.5 259.5,-173.5 259.5,-167.5 259.5,-167.5 259.5,-123.5 259.5,-123.5 259.5,-117.5 265.5,-111.5 271.5,-111.5 271.5,-111.5 357.5,-111.5 357.5,-111.5 363.5,-111.5 369.5,-117.5 369.5,-123.5 369.5,-123.5 369.5,-167.5 369.5,-167.5 369.5,-173.5 363.5,-179.5 357.5,-179.5\"/>\r\n",
       "<text text-anchor=\"start\" x=\"285.5\" y=\"-164.3\" font-family=\"Helvetica,sans-Serif\" font-size=\"14.00\">gini = 0.0</text>\r\n",
       "<text text-anchor=\"start\" x=\"275\" y=\"-149.3\" font-family=\"Helvetica,sans-Serif\" font-size=\"14.00\">samples = 2</text>\r\n",
       "<text text-anchor=\"start\" x=\"274\" y=\"-134.3\" font-family=\"Helvetica,sans-Serif\" font-size=\"14.00\">value = [2, 0]</text>\r\n",
       "<text text-anchor=\"start\" x=\"267.5\" y=\"-119.3\" font-family=\"Helvetica,sans-Serif\" font-size=\"14.00\">class = Benign</text>\r\n",
       "</g>\r\n",
       "<!-- 7&#45;&gt;8 -->\r\n",
       "<g id=\"edge8\" class=\"edge\"><title>7&#45;&gt;8</title>\r\n",
       "<path fill=\"none\" stroke=\"black\" d=\"M360.214,-222.907C353.546,-211.763 346.304,-199.658 339.592,-188.439\"/>\r\n",
       "<polygon fill=\"black\" stroke=\"black\" points=\"342.481,-186.451 334.343,-179.667 336.474,-190.045 342.481,-186.451\"/>\r\n",
       "</g>\r\n",
       "<!-- 9 -->\r\n",
       "<g id=\"node10\" class=\"node\"><title>9</title>\r\n",
       "<path fill=\"#399de5\" stroke=\"black\" d=\"M501,-179.5C501,-179.5 400,-179.5 400,-179.5 394,-179.5 388,-173.5 388,-167.5 388,-167.5 388,-123.5 388,-123.5 388,-117.5 394,-111.5 400,-111.5 400,-111.5 501,-111.5 501,-111.5 507,-111.5 513,-117.5 513,-123.5 513,-123.5 513,-167.5 513,-167.5 513,-173.5 507,-179.5 501,-179.5\"/>\r\n",
       "<text text-anchor=\"start\" x=\"421.5\" y=\"-164.3\" font-family=\"Helvetica,sans-Serif\" font-size=\"14.00\">gini = 0.0</text>\r\n",
       "<text text-anchor=\"start\" x=\"411\" y=\"-149.3\" font-family=\"Helvetica,sans-Serif\" font-size=\"14.00\">samples = 4</text>\r\n",
       "<text text-anchor=\"start\" x=\"410\" y=\"-134.3\" font-family=\"Helvetica,sans-Serif\" font-size=\"14.00\">value = [0, 4]</text>\r\n",
       "<text text-anchor=\"start\" x=\"396\" y=\"-119.3\" font-family=\"Helvetica,sans-Serif\" font-size=\"14.00\">class = Malignant</text>\r\n",
       "</g>\r\n",
       "<!-- 7&#45;&gt;9 -->\r\n",
       "<g id=\"edge9\" class=\"edge\"><title>7&#45;&gt;9</title>\r\n",
       "<path fill=\"none\" stroke=\"black\" d=\"M407.398,-222.907C413.685,-211.763 420.513,-199.658 426.842,-188.439\"/>\r\n",
       "<polygon fill=\"black\" stroke=\"black\" points=\"429.926,-190.096 431.79,-179.667 423.829,-186.657 429.926,-190.096\"/>\r\n",
       "</g>\r\n",
       "<!-- 11 -->\r\n",
       "<g id=\"node12\" class=\"node\"><title>11</title>\r\n",
       "<path fill=\"#eca572\" stroke=\"black\" d=\"M635.5,-306C635.5,-306 549.5,-306 549.5,-306 543.5,-306 537.5,-300 537.5,-294 537.5,-294 537.5,-235 537.5,-235 537.5,-229 543.5,-223 549.5,-223 549.5,-223 635.5,-223 635.5,-223 641.5,-223 647.5,-229 647.5,-235 647.5,-235 647.5,-294 647.5,-294 647.5,-300 641.5,-306 635.5,-306\"/>\r\n",
       "<text text-anchor=\"start\" x=\"546\" y=\"-290.8\" font-family=\"Helvetica,sans-Serif\" font-size=\"14.00\">MargAdh ≤ 6.0</text>\r\n",
       "<text text-anchor=\"start\" x=\"555\" y=\"-275.8\" font-family=\"Helvetica,sans-Serif\" font-size=\"14.00\">gini = 0.346</text>\r\n",
       "<text text-anchor=\"start\" x=\"549\" y=\"-260.8\" font-family=\"Helvetica,sans-Serif\" font-size=\"14.00\">samples = 18</text>\r\n",
       "<text text-anchor=\"start\" x=\"548\" y=\"-245.8\" font-family=\"Helvetica,sans-Serif\" font-size=\"14.00\">value = [14, 4]</text>\r\n",
       "<text text-anchor=\"start\" x=\"545.5\" y=\"-230.8\" font-family=\"Helvetica,sans-Serif\" font-size=\"14.00\">class = Benign</text>\r\n",
       "</g>\r\n",
       "<!-- 10&#45;&gt;11 -->\r\n",
       "<g id=\"edge11\" class=\"edge\"><title>10&#45;&gt;11</title>\r\n",
       "<path fill=\"none\" stroke=\"black\" d=\"M592.5,-341.907C592.5,-333.649 592.5,-324.864 592.5,-316.302\"/>\r\n",
       "<polygon fill=\"black\" stroke=\"black\" points=\"596,-316.021 592.5,-306.021 589,-316.021 596,-316.021\"/>\r\n",
       "</g>\r\n",
       "<!-- 16 -->\r\n",
       "<g id=\"node17\" class=\"node\"><title>16</title>\r\n",
       "<path fill=\"#49a5e7\" stroke=\"black\" d=\"M920,-306C920,-306 811,-306 811,-306 805,-306 799,-300 799,-294 799,-294 799,-235 799,-235 799,-229 805,-223 811,-223 811,-223 920,-223 920,-223 926,-223 932,-229 932,-235 932,-235 932,-294 932,-294 932,-300 926,-306 920,-306\"/>\r\n",
       "<text text-anchor=\"start\" x=\"807\" y=\"-290.8\" font-family=\"Helvetica,sans-Serif\" font-size=\"14.00\">UniCell_Size ≤ 4.5</text>\r\n",
       "<text text-anchor=\"start\" x=\"828\" y=\"-275.8\" font-family=\"Helvetica,sans-Serif\" font-size=\"14.00\">gini = 0.139</text>\r\n",
       "<text text-anchor=\"start\" x=\"818\" y=\"-260.8\" font-family=\"Helvetica,sans-Serif\" font-size=\"14.00\">samples = 173</text>\r\n",
       "<text text-anchor=\"start\" x=\"812.5\" y=\"-245.8\" font-family=\"Helvetica,sans-Serif\" font-size=\"14.00\">value = [13, 160]</text>\r\n",
       "<text text-anchor=\"start\" x=\"811\" y=\"-230.8\" font-family=\"Helvetica,sans-Serif\" font-size=\"14.00\">class = Malignant</text>\r\n",
       "</g>\r\n",
       "<!-- 10&#45;&gt;16 -->\r\n",
       "<g id=\"edge16\" class=\"edge\"><title>10&#45;&gt;16</title>\r\n",
       "<path fill=\"none\" stroke=\"black\" d=\"M665.659,-351.146C703.807,-334.797 750.435,-314.813 789.054,-298.263\"/>\r\n",
       "<polygon fill=\"black\" stroke=\"black\" points=\"790.877,-301.289 798.689,-294.133 788.119,-294.855 790.877,-301.289\"/>\r\n",
       "</g>\r\n",
       "<!-- 12 -->\r\n",
       "<g id=\"node13\" class=\"node\"><title>12</title>\r\n",
       "<path fill=\"#e78a47\" stroke=\"black\" d=\"M629.5,-187C629.5,-187 543.5,-187 543.5,-187 537.5,-187 531.5,-181 531.5,-175 531.5,-175 531.5,-116 531.5,-116 531.5,-110 537.5,-104 543.5,-104 543.5,-104 629.5,-104 629.5,-104 635.5,-104 641.5,-110 641.5,-116 641.5,-116 641.5,-175 641.5,-175 641.5,-181 635.5,-187 629.5,-187\"/>\r\n",
       "<text text-anchor=\"start\" x=\"544\" y=\"-171.8\" font-family=\"Helvetica,sans-Serif\" font-size=\"14.00\">Mitoses ≤ 6.5</text>\r\n",
       "<text text-anchor=\"start\" x=\"549\" y=\"-156.8\" font-family=\"Helvetica,sans-Serif\" font-size=\"14.00\">gini = 0.124</text>\r\n",
       "<text text-anchor=\"start\" x=\"543\" y=\"-141.8\" font-family=\"Helvetica,sans-Serif\" font-size=\"14.00\">samples = 15</text>\r\n",
       "<text text-anchor=\"start\" x=\"542\" y=\"-126.8\" font-family=\"Helvetica,sans-Serif\" font-size=\"14.00\">value = [14, 1]</text>\r\n",
       "<text text-anchor=\"start\" x=\"539.5\" y=\"-111.8\" font-family=\"Helvetica,sans-Serif\" font-size=\"14.00\">class = Benign</text>\r\n",
       "</g>\r\n",
       "<!-- 11&#45;&gt;12 -->\r\n",
       "<g id=\"edge12\" class=\"edge\"><title>11&#45;&gt;12</title>\r\n",
       "<path fill=\"none\" stroke=\"black\" d=\"M590.418,-222.907C589.99,-214.558 589.534,-205.671 589.091,-197.02\"/>\r\n",
       "<polygon fill=\"black\" stroke=\"black\" points=\"592.586,-196.828 588.578,-187.021 585.595,-197.187 592.586,-196.828\"/>\r\n",
       "</g>\r\n",
       "<!-- 15 -->\r\n",
       "<g id=\"node16\" class=\"node\"><title>15</title>\r\n",
       "<path fill=\"#399de5\" stroke=\"black\" d=\"M773,-179.5C773,-179.5 672,-179.5 672,-179.5 666,-179.5 660,-173.5 660,-167.5 660,-167.5 660,-123.5 660,-123.5 660,-117.5 666,-111.5 672,-111.5 672,-111.5 773,-111.5 773,-111.5 779,-111.5 785,-117.5 785,-123.5 785,-123.5 785,-167.5 785,-167.5 785,-173.5 779,-179.5 773,-179.5\"/>\r\n",
       "<text text-anchor=\"start\" x=\"693.5\" y=\"-164.3\" font-family=\"Helvetica,sans-Serif\" font-size=\"14.00\">gini = 0.0</text>\r\n",
       "<text text-anchor=\"start\" x=\"683\" y=\"-149.3\" font-family=\"Helvetica,sans-Serif\" font-size=\"14.00\">samples = 3</text>\r\n",
       "<text text-anchor=\"start\" x=\"682\" y=\"-134.3\" font-family=\"Helvetica,sans-Serif\" font-size=\"14.00\">value = [0, 3]</text>\r\n",
       "<text text-anchor=\"start\" x=\"668\" y=\"-119.3\" font-family=\"Helvetica,sans-Serif\" font-size=\"14.00\">class = Malignant</text>\r\n",
       "</g>\r\n",
       "<!-- 11&#45;&gt;15 -->\r\n",
       "<g id=\"edge15\" class=\"edge\"><title>11&#45;&gt;15</title>\r\n",
       "<path fill=\"none\" stroke=\"black\" d=\"M637.603,-222.907C650.722,-211.101 665.037,-198.217 678.112,-186.45\"/>\r\n",
       "<polygon fill=\"black\" stroke=\"black\" points=\"680.556,-188.958 685.648,-179.667 675.873,-183.755 680.556,-188.958\"/>\r\n",
       "</g>\r\n",
       "<!-- 13 -->\r\n",
       "<g id=\"node14\" class=\"node\"><title>13</title>\r\n",
       "<path fill=\"#e58139\" stroke=\"black\" d=\"M496.5,-68C496.5,-68 410.5,-68 410.5,-68 404.5,-68 398.5,-62 398.5,-56 398.5,-56 398.5,-12 398.5,-12 398.5,-6 404.5,-0 410.5,-0 410.5,-0 496.5,-0 496.5,-0 502.5,-0 508.5,-6 508.5,-12 508.5,-12 508.5,-56 508.5,-56 508.5,-62 502.5,-68 496.5,-68\"/>\r\n",
       "<text text-anchor=\"start\" x=\"424.5\" y=\"-52.8\" font-family=\"Helvetica,sans-Serif\" font-size=\"14.00\">gini = 0.0</text>\r\n",
       "<text text-anchor=\"start\" x=\"410\" y=\"-37.8\" font-family=\"Helvetica,sans-Serif\" font-size=\"14.00\">samples = 14</text>\r\n",
       "<text text-anchor=\"start\" x=\"409\" y=\"-22.8\" font-family=\"Helvetica,sans-Serif\" font-size=\"14.00\">value = [14, 0]</text>\r\n",
       "<text text-anchor=\"start\" x=\"406.5\" y=\"-7.8\" font-family=\"Helvetica,sans-Serif\" font-size=\"14.00\">class = Benign</text>\r\n",
       "</g>\r\n",
       "<!-- 12&#45;&gt;13 -->\r\n",
       "<g id=\"edge13\" class=\"edge\"><title>12&#45;&gt;13</title>\r\n",
       "<path fill=\"none\" stroke=\"black\" d=\"M536.976,-103.726C525.454,-94.2406 513.204,-84.1551 501.739,-74.7159\"/>\r\n",
       "<polygon fill=\"black\" stroke=\"black\" points=\"503.891,-71.9536 493.946,-68.2996 499.442,-77.3577 503.891,-71.9536\"/>\r\n",
       "</g>\r\n",
       "<!-- 14 -->\r\n",
       "<g id=\"node15\" class=\"node\"><title>14</title>\r\n",
       "<path fill=\"#399de5\" stroke=\"black\" d=\"M640,-68C640,-68 539,-68 539,-68 533,-68 527,-62 527,-56 527,-56 527,-12 527,-12 527,-6 533,-0 539,-0 539,-0 640,-0 640,-0 646,-0 652,-6 652,-12 652,-12 652,-56 652,-56 652,-62 646,-68 640,-68\"/>\r\n",
       "<text text-anchor=\"start\" x=\"560.5\" y=\"-52.8\" font-family=\"Helvetica,sans-Serif\" font-size=\"14.00\">gini = 0.0</text>\r\n",
       "<text text-anchor=\"start\" x=\"550\" y=\"-37.8\" font-family=\"Helvetica,sans-Serif\" font-size=\"14.00\">samples = 1</text>\r\n",
       "<text text-anchor=\"start\" x=\"549\" y=\"-22.8\" font-family=\"Helvetica,sans-Serif\" font-size=\"14.00\">value = [0, 1]</text>\r\n",
       "<text text-anchor=\"start\" x=\"535\" y=\"-7.8\" font-family=\"Helvetica,sans-Serif\" font-size=\"14.00\">class = Malignant</text>\r\n",
       "</g>\r\n",
       "<!-- 12&#45;&gt;14 -->\r\n",
       "<g id=\"edge14\" class=\"edge\"><title>12&#45;&gt;14</title>\r\n",
       "<path fill=\"none\" stroke=\"black\" d=\"M587.617,-103.726C587.842,-95.5175 588.079,-86.8595 588.307,-78.56\"/>\r\n",
       "<polygon fill=\"black\" stroke=\"black\" points=\"591.812,-78.3917 588.588,-68.2996 584.815,-78.2 591.812,-78.3917\"/>\r\n",
       "</g>\r\n",
       "<!-- 17 -->\r\n",
       "<g id=\"node18\" class=\"node\"><title>17</title>\r\n",
       "<path fill=\"#74baed\" stroke=\"black\" d=\"M916,-187C916,-187 815,-187 815,-187 809,-187 803,-181 803,-175 803,-175 803,-116 803,-116 803,-110 809,-104 815,-104 815,-104 916,-104 916,-104 922,-104 928,-110 928,-116 928,-116 928,-175 928,-175 928,-181 922,-187 916,-187\"/>\r\n",
       "<text text-anchor=\"start\" x=\"827.5\" y=\"-171.8\" font-family=\"Helvetica,sans-Serif\" font-size=\"14.00\">BareN ≤ 1.5</text>\r\n",
       "<text text-anchor=\"start\" x=\"828\" y=\"-156.8\" font-family=\"Helvetica,sans-Serif\" font-size=\"14.00\">gini = 0.353</text>\r\n",
       "<text text-anchor=\"start\" x=\"822\" y=\"-141.8\" font-family=\"Helvetica,sans-Serif\" font-size=\"14.00\">samples = 48</text>\r\n",
       "<text text-anchor=\"start\" x=\"817\" y=\"-126.8\" font-family=\"Helvetica,sans-Serif\" font-size=\"14.00\">value = [11, 37]</text>\r\n",
       "<text text-anchor=\"start\" x=\"811\" y=\"-111.8\" font-family=\"Helvetica,sans-Serif\" font-size=\"14.00\">class = Malignant</text>\r\n",
       "</g>\r\n",
       "<!-- 16&#45;&gt;17 -->\r\n",
       "<g id=\"edge17\" class=\"edge\"><title>16&#45;&gt;17</title>\r\n",
       "<path fill=\"none\" stroke=\"black\" d=\"M865.5,-222.907C865.5,-214.649 865.5,-205.864 865.5,-197.302\"/>\r\n",
       "<polygon fill=\"black\" stroke=\"black\" points=\"869,-197.021 865.5,-187.021 862,-197.021 869,-197.021\"/>\r\n",
       "</g>\r\n",
       "<!-- 20 -->\r\n",
       "<g id=\"node21\" class=\"node\"><title>20</title>\r\n",
       "<path fill=\"#3c9fe5\" stroke=\"black\" d=\"M1059,-187C1059,-187 958,-187 958,-187 952,-187 946,-181 946,-175 946,-175 946,-116 946,-116 946,-110 952,-104 958,-104 958,-104 1059,-104 1059,-104 1065,-104 1071,-110 1071,-116 1071,-116 1071,-175 1071,-175 1071,-181 1065,-187 1059,-187\"/>\r\n",
       "<text text-anchor=\"start\" x=\"970.5\" y=\"-171.8\" font-family=\"Helvetica,sans-Serif\" font-size=\"14.00\">BareN ≤ 4.5</text>\r\n",
       "<text text-anchor=\"start\" x=\"971\" y=\"-156.8\" font-family=\"Helvetica,sans-Serif\" font-size=\"14.00\">gini = 0.031</text>\r\n",
       "<text text-anchor=\"start\" x=\"961\" y=\"-141.8\" font-family=\"Helvetica,sans-Serif\" font-size=\"14.00\">samples = 125</text>\r\n",
       "<text text-anchor=\"start\" x=\"960\" y=\"-126.8\" font-family=\"Helvetica,sans-Serif\" font-size=\"14.00\">value = [2, 123]</text>\r\n",
       "<text text-anchor=\"start\" x=\"954\" y=\"-111.8\" font-family=\"Helvetica,sans-Serif\" font-size=\"14.00\">class = Malignant</text>\r\n",
       "</g>\r\n",
       "<!-- 16&#45;&gt;20 -->\r\n",
       "<g id=\"edge20\" class=\"edge\"><title>16&#45;&gt;20</title>\r\n",
       "<path fill=\"none\" stroke=\"black\" d=\"M915.113,-222.907C926.76,-213.379 939.263,-203.148 951.215,-193.37\"/>\r\n",
       "<polygon fill=\"black\" stroke=\"black\" points=\"953.451,-196.062 958.975,-187.021 949.019,-190.644 953.451,-196.062\"/>\r\n",
       "</g>\r\n",
       "<!-- 18 -->\r\n",
       "<g id=\"node19\" class=\"node\"><title>18</title>\r\n",
       "<path fill=\"#eeab7b\" stroke=\"black\" d=\"M772.5,-68C772.5,-68 686.5,-68 686.5,-68 680.5,-68 674.5,-62 674.5,-56 674.5,-56 674.5,-12 674.5,-12 674.5,-6 680.5,-0 686.5,-0 686.5,-0 772.5,-0 772.5,-0 778.5,-0 784.5,-6 784.5,-12 784.5,-12 784.5,-56 784.5,-56 784.5,-62 778.5,-68 772.5,-68\"/>\r\n",
       "<text text-anchor=\"start\" x=\"692\" y=\"-52.8\" font-family=\"Helvetica,sans-Serif\" font-size=\"14.00\">gini = 0.375</text>\r\n",
       "<text text-anchor=\"start\" x=\"690\" y=\"-37.8\" font-family=\"Helvetica,sans-Serif\" font-size=\"14.00\">samples = 8</text>\r\n",
       "<text text-anchor=\"start\" x=\"689\" y=\"-22.8\" font-family=\"Helvetica,sans-Serif\" font-size=\"14.00\">value = [6, 2]</text>\r\n",
       "<text text-anchor=\"start\" x=\"682.5\" y=\"-7.8\" font-family=\"Helvetica,sans-Serif\" font-size=\"14.00\">class = Benign</text>\r\n",
       "</g>\r\n",
       "<!-- 17&#45;&gt;18 -->\r\n",
       "<g id=\"edge18\" class=\"edge\"><title>17&#45;&gt;18</title>\r\n",
       "<path fill=\"none\" stroke=\"black\" d=\"M814.859,-103.726C803.077,-94.2406 790.551,-84.1551 778.827,-74.7159\"/>\r\n",
       "<polygon fill=\"black\" stroke=\"black\" points=\"780.843,-71.8448 770.858,-68.2996 776.453,-77.2972 780.843,-71.8448\"/>\r\n",
       "</g>\r\n",
       "<!-- 19 -->\r\n",
       "<g id=\"node20\" class=\"node\"><title>19</title>\r\n",
       "<path fill=\"#55abe9\" stroke=\"black\" d=\"M916,-68C916,-68 815,-68 815,-68 809,-68 803,-62 803,-56 803,-56 803,-12 803,-12 803,-6 809,-0 815,-0 815,-0 916,-0 916,-0 922,-0 928,-6 928,-12 928,-12 928,-56 928,-56 928,-62 922,-68 916,-68\"/>\r\n",
       "<text text-anchor=\"start\" x=\"828\" y=\"-52.8\" font-family=\"Helvetica,sans-Serif\" font-size=\"14.00\">gini = 0.219</text>\r\n",
       "<text text-anchor=\"start\" x=\"822\" y=\"-37.8\" font-family=\"Helvetica,sans-Serif\" font-size=\"14.00\">samples = 40</text>\r\n",
       "<text text-anchor=\"start\" x=\"821\" y=\"-22.8\" font-family=\"Helvetica,sans-Serif\" font-size=\"14.00\">value = [5, 35]</text>\r\n",
       "<text text-anchor=\"start\" x=\"811\" y=\"-7.8\" font-family=\"Helvetica,sans-Serif\" font-size=\"14.00\">class = Malignant</text>\r\n",
       "</g>\r\n",
       "<!-- 17&#45;&gt;19 -->\r\n",
       "<g id=\"edge19\" class=\"edge\"><title>17&#45;&gt;19</title>\r\n",
       "<path fill=\"none\" stroke=\"black\" d=\"M865.5,-103.726C865.5,-95.5175 865.5,-86.8595 865.5,-78.56\"/>\r\n",
       "<polygon fill=\"black\" stroke=\"black\" points=\"869,-78.2996 865.5,-68.2996 862,-78.2996 869,-78.2996\"/>\r\n",
       "</g>\r\n",
       "<!-- 21 -->\r\n",
       "<g id=\"node22\" class=\"node\"><title>21</title>\r\n",
       "<path fill=\"#4ca6e7\" stroke=\"black\" d=\"M1059,-68C1059,-68 958,-68 958,-68 952,-68 946,-62 946,-56 946,-56 946,-12 946,-12 946,-6 952,-0 958,-0 958,-0 1059,-0 1059,-0 1065,-0 1071,-6 1071,-12 1071,-12 1071,-56 1071,-56 1071,-62 1065,-68 1059,-68\"/>\r\n",
       "<text text-anchor=\"start\" x=\"971\" y=\"-52.8\" font-family=\"Helvetica,sans-Serif\" font-size=\"14.00\">gini = 0.159</text>\r\n",
       "<text text-anchor=\"start\" x=\"965\" y=\"-37.8\" font-family=\"Helvetica,sans-Serif\" font-size=\"14.00\">samples = 23</text>\r\n",
       "<text text-anchor=\"start\" x=\"964\" y=\"-22.8\" font-family=\"Helvetica,sans-Serif\" font-size=\"14.00\">value = [2, 21]</text>\r\n",
       "<text text-anchor=\"start\" x=\"954\" y=\"-7.8\" font-family=\"Helvetica,sans-Serif\" font-size=\"14.00\">class = Malignant</text>\r\n",
       "</g>\r\n",
       "<!-- 20&#45;&gt;21 -->\r\n",
       "<g id=\"edge21\" class=\"edge\"><title>20&#45;&gt;21</title>\r\n",
       "<path fill=\"none\" stroke=\"black\" d=\"M1008.5,-103.726C1008.5,-95.5175 1008.5,-86.8595 1008.5,-78.56\"/>\r\n",
       "<polygon fill=\"black\" stroke=\"black\" points=\"1012,-78.2996 1008.5,-68.2996 1005,-78.2996 1012,-78.2996\"/>\r\n",
       "</g>\r\n",
       "<!-- 22 -->\r\n",
       "<g id=\"node23\" class=\"node\"><title>22</title>\r\n",
       "<path fill=\"#399de5\" stroke=\"black\" d=\"M1202,-68C1202,-68 1101,-68 1101,-68 1095,-68 1089,-62 1089,-56 1089,-56 1089,-12 1089,-12 1089,-6 1095,-0 1101,-0 1101,-0 1202,-0 1202,-0 1208,-0 1214,-6 1214,-12 1214,-12 1214,-56 1214,-56 1214,-62 1208,-68 1202,-68\"/>\r\n",
       "<text text-anchor=\"start\" x=\"1122.5\" y=\"-52.8\" font-family=\"Helvetica,sans-Serif\" font-size=\"14.00\">gini = 0.0</text>\r\n",
       "<text text-anchor=\"start\" x=\"1104\" y=\"-37.8\" font-family=\"Helvetica,sans-Serif\" font-size=\"14.00\">samples = 102</text>\r\n",
       "<text text-anchor=\"start\" x=\"1103\" y=\"-22.8\" font-family=\"Helvetica,sans-Serif\" font-size=\"14.00\">value = [0, 102]</text>\r\n",
       "<text text-anchor=\"start\" x=\"1097\" y=\"-7.8\" font-family=\"Helvetica,sans-Serif\" font-size=\"14.00\">class = Malignant</text>\r\n",
       "</g>\r\n",
       "<!-- 20&#45;&gt;22 -->\r\n",
       "<g id=\"edge22\" class=\"edge\"><title>20&#45;&gt;22</title>\r\n",
       "<path fill=\"none\" stroke=\"black\" d=\"M1061.75,-103.726C1074.25,-94.1494 1087.56,-83.9611 1099.99,-74.4438\"/>\r\n",
       "<polygon fill=\"black\" stroke=\"black\" points=\"1102.2,-77.1582 1108.01,-68.2996 1097.95,-71.6004 1102.2,-77.1582\"/>\r\n",
       "</g>\r\n",
       "</g>\r\n",
       "</svg>\r\n"
      ],
      "text/plain": [
       "<graphviz.files.Source at 0x1aa2c48b748>"
      ]
     },
     "execution_count": 142,
     "metadata": {},
     "output_type": "execute_result"
    }
   ],
   "source": [
    "import graphviz\n",
    "from sklearn import tree\n",
    "\n",
    "dot_data = tree.export_graphviz(classifier, out_file=None, \n",
    "                         feature_names=X_train.columns,  \n",
    "                         class_names=['Benign','Malignant'],  \n",
    "                         filled=True, rounded=True,  \n",
    "                         special_characters=True)  \n",
    "graph = graphviz.Source(dot_data)  \n",
    "graph"
   ]
  },
  {
   "cell_type": "markdown",
   "metadata": {},
   "source": [
    "### **Decision Tree using Using cross-validation**"
   ]
  },
  {
   "cell_type": "markdown",
   "metadata": {},
   "source": [
    "**Importing packages for gridsearch**\n",
    "\n",
    "GridSearchCV helps to loop through predefined hyperparameters and fit the  model on training set. So, in the end, we can select the best parameters from the listed hyperparameters."
   ]
  },
  {
   "cell_type": "code",
   "execution_count": 143,
   "metadata": {},
   "outputs": [],
   "source": [
    "from sklearn.model_selection import StratifiedKFold\n",
    "from sklearn.model_selection import GridSearchCV"
   ]
  },
  {
   "cell_type": "markdown",
   "metadata": {},
   "source": [
    "**creating a list of hyperparameters which can be used in gridsearch**"
   ]
  },
  {
   "cell_type": "code",
   "execution_count": 144,
   "metadata": {},
   "outputs": [],
   "source": [
    "criterian = ['gini', 'entropy']\n",
    "depth_range = [3,4,5,6,7,8,9]\n",
    "minsplit_range = [5,10,20,25,30]\n",
    "minleaf_range = [5,10,15]"
   ]
  },
  {
   "cell_type": "code",
   "execution_count": 145,
   "metadata": {},
   "outputs": [],
   "source": [
    "parameters = dict(criterion=criterian,\n",
    "                  max_depth=depth_range,\n",
    "                  min_samples_split=minsplit_range, \n",
    "                  min_samples_leaf=minleaf_range)\n"
   ]
  },
  {
   "cell_type": "markdown",
   "metadata": {},
   "source": [
    "**Stratified KFold**\n",
    "\n",
    "It helps splitting the data in *n* splits and then run model on every split(fold)"
   ]
  },
  {
   "cell_type": "code",
   "execution_count": 146,
   "metadata": {},
   "outputs": [],
   "source": [
    "kfold = StratifiedKFold(n_splits=5, random_state=42, shuffle=True)"
   ]
  },
  {
   "cell_type": "code",
   "execution_count": 147,
   "metadata": {},
   "outputs": [],
   "source": [
    "classifier = DecisionTreeClassifier()\n",
    "cv = GridSearchCV(classifier, param_grid=parameters,\n",
    "                  cv=kfold,scoring='accuracy')\n"
   ]
  },
  {
   "cell_type": "code",
   "execution_count": 148,
   "metadata": {},
   "outputs": [
    {
     "data": {
      "text/plain": [
       "GridSearchCV(cv=StratifiedKFold(n_splits=5, random_state=42, shuffle=True),\n",
       "             estimator=DecisionTreeClassifier(),\n",
       "             param_grid={'criterion': ['gini', 'entropy'],\n",
       "                         'max_depth': [3, 4, 5, 6, 7, 8, 9],\n",
       "                         'min_samples_leaf': [5, 10, 15],\n",
       "                         'min_samples_split': [5, 10, 20, 25, 30]},\n",
       "             scoring='accuracy')"
      ]
     },
     "execution_count": 148,
     "metadata": {},
     "output_type": "execute_result"
    }
   ],
   "source": [
    "cv.fit(X,y)"
   ]
  },
  {
   "cell_type": "markdown",
   "metadata": {},
   "source": [
    "**Best parameters returned by the gridsearch**"
   ]
  },
  {
   "cell_type": "code",
   "execution_count": 149,
   "metadata": {},
   "outputs": [
    {
     "name": "stdout",
     "output_type": "stream",
     "text": [
      "{'criterion': 'entropy', 'max_depth': 9, 'min_samples_leaf': 5, 'min_samples_split': 5}\n"
     ]
    }
   ],
   "source": [
    "print(cv.best_params_)"
   ]
  },
  {
   "cell_type": "markdown",
   "metadata": {},
   "source": [
    "**Accuracy Score using above parameters**"
   ]
  },
  {
   "cell_type": "code",
   "execution_count": 150,
   "metadata": {},
   "outputs": [
    {
     "name": "stdout",
     "output_type": "stream",
     "text": [
      "0.9542651593011305\n"
     ]
    }
   ],
   "source": [
    "print(cv.best_score_)"
   ]
  },
  {
   "cell_type": "code",
   "execution_count": 151,
   "metadata": {},
   "outputs": [],
   "source": [
    "best_model = cv.best_estimator_"
   ]
  },
  {
   "cell_type": "code",
   "execution_count": 152,
   "metadata": {},
   "outputs": [
    {
     "data": {
      "text/plain": [
       "DecisionTreeClassifier(criterion='entropy', max_depth=9, min_samples_leaf=5,\n",
       "                       min_samples_split=5)"
      ]
     },
     "execution_count": 152,
     "metadata": {},
     "output_type": "execute_result"
    }
   ],
   "source": [
    "best_model"
   ]
  },
  {
   "cell_type": "code",
   "execution_count": 154,
   "metadata": {},
   "outputs": [
    {
     "data": {
      "image/svg+xml": [
       "<?xml version=\"1.0\" encoding=\"UTF-8\" standalone=\"no\"?>\r\n",
       "<!DOCTYPE svg PUBLIC \"-//W3C//DTD SVG 1.1//EN\"\r\n",
       " \"http://www.w3.org/Graphics/SVG/1.1/DTD/svg11.dtd\">\r\n",
       "<!-- Generated by graphviz version 2.38.0 (20140413.2041)\r\n",
       " -->\r\n",
       "<!-- Title: Tree Pages: 1 -->\r\n",
       "<svg width=\"1663pt\" height=\"790pt\"\r\n",
       " viewBox=\"0.00 0.00 1663.00 790.00\" xmlns=\"http://www.w3.org/2000/svg\" xmlns:xlink=\"http://www.w3.org/1999/xlink\">\r\n",
       "<g id=\"graph0\" class=\"graph\" transform=\"scale(1 1) rotate(0) translate(4 786)\">\r\n",
       "<title>Tree</title>\r\n",
       "<polygon fill=\"white\" stroke=\"none\" points=\"-4,4 -4,-786 1659,-786 1659,4 -4,4\"/>\r\n",
       "<!-- 0 -->\r\n",
       "<g id=\"node1\" class=\"node\"><title>0</title>\r\n",
       "<path fill=\"#f3c3a1\" stroke=\"black\" d=\"M662,-782C662,-782 553,-782 553,-782 547,-782 541,-776 541,-770 541,-770 541,-711 541,-711 541,-705 547,-699 553,-699 553,-699 662,-699 662,-699 668,-699 674,-705 674,-711 674,-711 674,-770 674,-770 674,-776 668,-782 662,-782\"/>\r\n",
       "<text text-anchor=\"start\" x=\"549\" y=\"-766.8\" font-family=\"Helvetica,sans-Serif\" font-size=\"14.00\">UniCell_Size ≤ 2.5</text>\r\n",
       "<text text-anchor=\"start\" x=\"557.5\" y=\"-751.8\" font-family=\"Helvetica,sans-Serif\" font-size=\"14.00\">entropy = 0.929</text>\r\n",
       "<text text-anchor=\"start\" x=\"560\" y=\"-736.8\" font-family=\"Helvetica,sans-Serif\" font-size=\"14.00\">samples = 699</text>\r\n",
       "<text text-anchor=\"start\" x=\"550.5\" y=\"-721.8\" font-family=\"Helvetica,sans-Serif\" font-size=\"14.00\">value = [458, 241]</text>\r\n",
       "<text text-anchor=\"start\" x=\"560.5\" y=\"-706.8\" font-family=\"Helvetica,sans-Serif\" font-size=\"14.00\">class = Benign</text>\r\n",
       "</g>\r\n",
       "<!-- 1 -->\r\n",
       "<g id=\"node2\" class=\"node\"><title>1</title>\r\n",
       "<path fill=\"#e6853f\" stroke=\"black\" d=\"M439.5,-663C439.5,-663 341.5,-663 341.5,-663 335.5,-663 329.5,-657 329.5,-651 329.5,-651 329.5,-592 329.5,-592 329.5,-586 335.5,-580 341.5,-580 341.5,-580 439.5,-580 439.5,-580 445.5,-580 451.5,-586 451.5,-592 451.5,-592 451.5,-651 451.5,-651 451.5,-657 445.5,-663 439.5,-663\"/>\r\n",
       "<text text-anchor=\"start\" x=\"352.5\" y=\"-647.8\" font-family=\"Helvetica,sans-Serif\" font-size=\"14.00\">BareN ≤ 3.5</text>\r\n",
       "<text text-anchor=\"start\" x=\"340.5\" y=\"-632.8\" font-family=\"Helvetica,sans-Serif\" font-size=\"14.00\">entropy = 0.184</text>\r\n",
       "<text text-anchor=\"start\" x=\"343\" y=\"-617.8\" font-family=\"Helvetica,sans-Serif\" font-size=\"14.00\">samples = 429</text>\r\n",
       "<text text-anchor=\"start\" x=\"337.5\" y=\"-602.8\" font-family=\"Helvetica,sans-Serif\" font-size=\"14.00\">value = [417, 12]</text>\r\n",
       "<text text-anchor=\"start\" x=\"343.5\" y=\"-587.8\" font-family=\"Helvetica,sans-Serif\" font-size=\"14.00\">class = Benign</text>\r\n",
       "</g>\r\n",
       "<!-- 0&#45;&gt;1 -->\r\n",
       "<g id=\"edge1\" class=\"edge\"><title>0&#45;&gt;1</title>\r\n",
       "<path fill=\"none\" stroke=\"black\" d=\"M540.918,-703.601C515.508,-689.901 486.474,-674.246 460.735,-660.369\"/>\r\n",
       "<polygon fill=\"black\" stroke=\"black\" points=\"462.243,-657.205 451.779,-655.54 458.921,-663.367 462.243,-657.205\"/>\r\n",
       "<text text-anchor=\"middle\" x=\"458.95\" y=\"-675.79\" font-family=\"Helvetica,sans-Serif\" font-size=\"14.00\">True</text>\r\n",
       "</g>\r\n",
       "<!-- 10 -->\r\n",
       "<g id=\"node11\" class=\"node\"><title>10</title>\r\n",
       "<path fill=\"#5cafea\" stroke=\"black\" d=\"M879,-663C879,-663 770,-663 770,-663 764,-663 758,-657 758,-651 758,-651 758,-592 758,-592 758,-586 764,-580 770,-580 770,-580 879,-580 879,-580 885,-580 891,-586 891,-592 891,-592 891,-651 891,-651 891,-657 885,-663 879,-663\"/>\r\n",
       "<text text-anchor=\"start\" x=\"766\" y=\"-647.8\" font-family=\"Helvetica,sans-Serif\" font-size=\"14.00\">UniCell_Size ≤ 4.5</text>\r\n",
       "<text text-anchor=\"start\" x=\"774.5\" y=\"-632.8\" font-family=\"Helvetica,sans-Serif\" font-size=\"14.00\">entropy = 0.614</text>\r\n",
       "<text text-anchor=\"start\" x=\"777\" y=\"-617.8\" font-family=\"Helvetica,sans-Serif\" font-size=\"14.00\">samples = 270</text>\r\n",
       "<text text-anchor=\"start\" x=\"771.5\" y=\"-602.8\" font-family=\"Helvetica,sans-Serif\" font-size=\"14.00\">value = [41, 229]</text>\r\n",
       "<text text-anchor=\"start\" x=\"770\" y=\"-587.8\" font-family=\"Helvetica,sans-Serif\" font-size=\"14.00\">class = Malignant</text>\r\n",
       "</g>\r\n",
       "<!-- 0&#45;&gt;10 -->\r\n",
       "<g id=\"edge10\" class=\"edge\"><title>0&#45;&gt;10</title>\r\n",
       "<path fill=\"none\" stroke=\"black\" d=\"M674.082,-703.601C697.716,-690.858 724.486,-676.424 748.824,-663.302\"/>\r\n",
       "<polygon fill=\"black\" stroke=\"black\" points=\"750.529,-666.359 757.67,-658.533 747.207,-660.198 750.529,-666.359\"/>\r\n",
       "<text text-anchor=\"middle\" x=\"750.5\" y=\"-678.782\" font-family=\"Helvetica,sans-Serif\" font-size=\"14.00\">False</text>\r\n",
       "</g>\r\n",
       "<!-- 2 -->\r\n",
       "<g id=\"node3\" class=\"node\"><title>2</title>\r\n",
       "<path fill=\"#e5823a\" stroke=\"black\" d=\"M235.5,-544C235.5,-544 143.5,-544 143.5,-544 137.5,-544 131.5,-538 131.5,-532 131.5,-532 131.5,-473 131.5,-473 131.5,-467 137.5,-461 143.5,-461 143.5,-461 235.5,-461 235.5,-461 241.5,-461 247.5,-467 247.5,-473 247.5,-473 247.5,-532 247.5,-532 247.5,-538 241.5,-544 235.5,-544\"/>\r\n",
       "<text text-anchor=\"start\" x=\"150.5\" y=\"-528.8\" font-family=\"Helvetica,sans-Serif\" font-size=\"14.00\">SEpith ≤ 4.5</text>\r\n",
       "<text text-anchor=\"start\" x=\"139.5\" y=\"-513.8\" font-family=\"Helvetica,sans-Serif\" font-size=\"14.00\">entropy = 0.045</text>\r\n",
       "<text text-anchor=\"start\" x=\"142\" y=\"-498.8\" font-family=\"Helvetica,sans-Serif\" font-size=\"14.00\">samples = 403</text>\r\n",
       "<text text-anchor=\"start\" x=\"141\" y=\"-483.8\" font-family=\"Helvetica,sans-Serif\" font-size=\"14.00\">value = [401, 2]</text>\r\n",
       "<text text-anchor=\"start\" x=\"142.5\" y=\"-468.8\" font-family=\"Helvetica,sans-Serif\" font-size=\"14.00\">class = Benign</text>\r\n",
       "</g>\r\n",
       "<!-- 1&#45;&gt;2 -->\r\n",
       "<g id=\"edge2\" class=\"edge\"><title>1&#45;&gt;2</title>\r\n",
       "<path fill=\"none\" stroke=\"black\" d=\"M329.375,-584.92C306.331,-571.506 280.008,-556.184 256.459,-542.476\"/>\r\n",
       "<polygon fill=\"black\" stroke=\"black\" points=\"257.985,-539.315 247.582,-537.309 254.464,-545.365 257.985,-539.315\"/>\r\n",
       "</g>\r\n",
       "<!-- 5 -->\r\n",
       "<g id=\"node6\" class=\"node\"><title>5</title>\r\n",
       "<path fill=\"#f5d0b5\" stroke=\"black\" d=\"M436.5,-544C436.5,-544 344.5,-544 344.5,-544 338.5,-544 332.5,-538 332.5,-532 332.5,-532 332.5,-473 332.5,-473 332.5,-467 338.5,-461 344.5,-461 344.5,-461 436.5,-461 436.5,-461 442.5,-461 448.5,-467 448.5,-473 448.5,-473 448.5,-532 448.5,-532 448.5,-538 442.5,-544 436.5,-544\"/>\r\n",
       "<text text-anchor=\"start\" x=\"352\" y=\"-528.8\" font-family=\"Helvetica,sans-Serif\" font-size=\"14.00\">Clump ≤ 3.5</text>\r\n",
       "<text text-anchor=\"start\" x=\"340.5\" y=\"-513.8\" font-family=\"Helvetica,sans-Serif\" font-size=\"14.00\">entropy = 0.961</text>\r\n",
       "<text text-anchor=\"start\" x=\"347\" y=\"-498.8\" font-family=\"Helvetica,sans-Serif\" font-size=\"14.00\">samples = 26</text>\r\n",
       "<text text-anchor=\"start\" x=\"342\" y=\"-483.8\" font-family=\"Helvetica,sans-Serif\" font-size=\"14.00\">value = [16, 10]</text>\r\n",
       "<text text-anchor=\"start\" x=\"343.5\" y=\"-468.8\" font-family=\"Helvetica,sans-Serif\" font-size=\"14.00\">class = Benign</text>\r\n",
       "</g>\r\n",
       "<!-- 1&#45;&gt;5 -->\r\n",
       "<g id=\"edge5\" class=\"edge\"><title>1&#45;&gt;5</title>\r\n",
       "<path fill=\"none\" stroke=\"black\" d=\"M390.5,-579.907C390.5,-571.649 390.5,-562.864 390.5,-554.302\"/>\r\n",
       "<polygon fill=\"black\" stroke=\"black\" points=\"394,-554.021 390.5,-544.021 387,-554.021 394,-554.021\"/>\r\n",
       "</g>\r\n",
       "<!-- 3 -->\r\n",
       "<g id=\"node4\" class=\"node\"><title>3</title>\r\n",
       "<path fill=\"#e58139\" stroke=\"black\" d=\"M101,-417.5C101,-417.5 12,-417.5 12,-417.5 6,-417.5 0,-411.5 0,-405.5 0,-405.5 0,-361.5 0,-361.5 0,-355.5 6,-349.5 12,-349.5 12,-349.5 101,-349.5 101,-349.5 107,-349.5 113,-355.5 113,-361.5 113,-361.5 113,-405.5 113,-405.5 113,-411.5 107,-417.5 101,-417.5\"/>\r\n",
       "<text text-anchor=\"start\" x=\"14.5\" y=\"-402.3\" font-family=\"Helvetica,sans-Serif\" font-size=\"14.00\">entropy = 0.0</text>\r\n",
       "<text text-anchor=\"start\" x=\"9\" y=\"-387.3\" font-family=\"Helvetica,sans-Serif\" font-size=\"14.00\">samples = 397</text>\r\n",
       "<text text-anchor=\"start\" x=\"8\" y=\"-372.3\" font-family=\"Helvetica,sans-Serif\" font-size=\"14.00\">value = [397, 0]</text>\r\n",
       "<text text-anchor=\"start\" x=\"9.5\" y=\"-357.3\" font-family=\"Helvetica,sans-Serif\" font-size=\"14.00\">class = Benign</text>\r\n",
       "</g>\r\n",
       "<!-- 2&#45;&gt;3 -->\r\n",
       "<g id=\"edge3\" class=\"edge\"><title>2&#45;&gt;3</title>\r\n",
       "<path fill=\"none\" stroke=\"black\" d=\"M143.356,-460.907C129.935,-449.101 115.289,-436.217 101.913,-424.45\"/>\r\n",
       "<polygon fill=\"black\" stroke=\"black\" points=\"104.023,-421.644 94.2026,-417.667 99.3991,-426.9 104.023,-421.644\"/>\r\n",
       "</g>\r\n",
       "<!-- 4 -->\r\n",
       "<g id=\"node5\" class=\"node\"><title>4</title>\r\n",
       "<path fill=\"#f2c09c\" stroke=\"black\" d=\"M235.5,-417.5C235.5,-417.5 143.5,-417.5 143.5,-417.5 137.5,-417.5 131.5,-411.5 131.5,-405.5 131.5,-405.5 131.5,-361.5 131.5,-361.5 131.5,-355.5 137.5,-349.5 143.5,-349.5 143.5,-349.5 235.5,-349.5 235.5,-349.5 241.5,-349.5 247.5,-355.5 247.5,-361.5 247.5,-361.5 247.5,-405.5 247.5,-405.5 247.5,-411.5 241.5,-417.5 235.5,-417.5\"/>\r\n",
       "<text text-anchor=\"start\" x=\"139.5\" y=\"-402.3\" font-family=\"Helvetica,sans-Serif\" font-size=\"14.00\">entropy = 0.918</text>\r\n",
       "<text text-anchor=\"start\" x=\"150\" y=\"-387.3\" font-family=\"Helvetica,sans-Serif\" font-size=\"14.00\">samples = 6</text>\r\n",
       "<text text-anchor=\"start\" x=\"149\" y=\"-372.3\" font-family=\"Helvetica,sans-Serif\" font-size=\"14.00\">value = [4, 2]</text>\r\n",
       "<text text-anchor=\"start\" x=\"142.5\" y=\"-357.3\" font-family=\"Helvetica,sans-Serif\" font-size=\"14.00\">class = Benign</text>\r\n",
       "</g>\r\n",
       "<!-- 2&#45;&gt;4 -->\r\n",
       "<g id=\"edge4\" class=\"edge\"><title>2&#45;&gt;4</title>\r\n",
       "<path fill=\"none\" stroke=\"black\" d=\"M189.5,-460.907C189.5,-450.204 189.5,-438.615 189.5,-427.776\"/>\r\n",
       "<polygon fill=\"black\" stroke=\"black\" points=\"193,-427.667 189.5,-417.667 186,-427.667 193,-427.667\"/>\r\n",
       "</g>\r\n",
       "<!-- 6 -->\r\n",
       "<g id=\"node7\" class=\"node\"><title>6</title>\r\n",
       "<path fill=\"#e58139\" stroke=\"black\" d=\"M363.5,-417.5C363.5,-417.5 277.5,-417.5 277.5,-417.5 271.5,-417.5 265.5,-411.5 265.5,-405.5 265.5,-405.5 265.5,-361.5 265.5,-361.5 265.5,-355.5 271.5,-349.5 277.5,-349.5 277.5,-349.5 363.5,-349.5 363.5,-349.5 369.5,-349.5 375.5,-355.5 375.5,-361.5 375.5,-361.5 375.5,-405.5 375.5,-405.5 375.5,-411.5 369.5,-417.5 363.5,-417.5\"/>\r\n",
       "<text text-anchor=\"start\" x=\"278.5\" y=\"-402.3\" font-family=\"Helvetica,sans-Serif\" font-size=\"14.00\">entropy = 0.0</text>\r\n",
       "<text text-anchor=\"start\" x=\"277\" y=\"-387.3\" font-family=\"Helvetica,sans-Serif\" font-size=\"14.00\">samples = 14</text>\r\n",
       "<text text-anchor=\"start\" x=\"276\" y=\"-372.3\" font-family=\"Helvetica,sans-Serif\" font-size=\"14.00\">value = [14, 0]</text>\r\n",
       "<text text-anchor=\"start\" x=\"273.5\" y=\"-357.3\" font-family=\"Helvetica,sans-Serif\" font-size=\"14.00\">class = Benign</text>\r\n",
       "</g>\r\n",
       "<!-- 5&#45;&gt;6 -->\r\n",
       "<g id=\"edge6\" class=\"edge\"><title>5&#45;&gt;6</title>\r\n",
       "<path fill=\"none\" stroke=\"black\" d=\"M366.214,-460.907C359.546,-449.763 352.304,-437.658 345.592,-426.439\"/>\r\n",
       "<polygon fill=\"black\" stroke=\"black\" points=\"348.481,-424.451 340.343,-417.667 342.474,-428.045 348.481,-424.451\"/>\r\n",
       "</g>\r\n",
       "<!-- 7 -->\r\n",
       "<g id=\"node8\" class=\"node\"><title>7</title>\r\n",
       "<path fill=\"#61b1ea\" stroke=\"black\" d=\"M507,-425C507,-425 406,-425 406,-425 400,-425 394,-419 394,-413 394,-413 394,-354 394,-354 394,-348 400,-342 406,-342 406,-342 507,-342 507,-342 513,-342 519,-348 519,-354 519,-354 519,-413 519,-413 519,-419 513,-425 507,-425\"/>\r\n",
       "<text text-anchor=\"start\" x=\"414.5\" y=\"-409.8\" font-family=\"Helvetica,sans-Serif\" font-size=\"14.00\">NoemN ≤ 2.0</text>\r\n",
       "<text text-anchor=\"start\" x=\"410.5\" y=\"-394.8\" font-family=\"Helvetica,sans-Serif\" font-size=\"14.00\">entropy = 0.65</text>\r\n",
       "<text text-anchor=\"start\" x=\"413\" y=\"-379.8\" font-family=\"Helvetica,sans-Serif\" font-size=\"14.00\">samples = 12</text>\r\n",
       "<text text-anchor=\"start\" x=\"412\" y=\"-364.8\" font-family=\"Helvetica,sans-Serif\" font-size=\"14.00\">value = [2, 10]</text>\r\n",
       "<text text-anchor=\"start\" x=\"402\" y=\"-349.8\" font-family=\"Helvetica,sans-Serif\" font-size=\"14.00\">class = Malignant</text>\r\n",
       "</g>\r\n",
       "<!-- 5&#45;&gt;7 -->\r\n",
       "<g id=\"edge7\" class=\"edge\"><title>5&#45;&gt;7</title>\r\n",
       "<path fill=\"none\" stroke=\"black\" d=\"M413.398,-460.907C418.313,-452.195 423.558,-442.897 428.637,-433.893\"/>\r\n",
       "<polygon fill=\"black\" stroke=\"black\" points=\"431.777,-435.45 433.642,-425.021 425.68,-432.011 431.777,-435.45\"/>\r\n",
       "</g>\r\n",
       "<!-- 8 -->\r\n",
       "<g id=\"node9\" class=\"node\"><title>8</title>\r\n",
       "<path fill=\"#bddef6\" stroke=\"black\" d=\"M364,-298.5C364,-298.5 263,-298.5 263,-298.5 257,-298.5 251,-292.5 251,-286.5 251,-286.5 251,-242.5 251,-242.5 251,-236.5 257,-230.5 263,-230.5 263,-230.5 364,-230.5 364,-230.5 370,-230.5 376,-236.5 376,-242.5 376,-242.5 376,-286.5 376,-286.5 376,-292.5 370,-298.5 364,-298.5\"/>\r\n",
       "<text text-anchor=\"start\" x=\"263.5\" y=\"-283.3\" font-family=\"Helvetica,sans-Serif\" font-size=\"14.00\">entropy = 0.971</text>\r\n",
       "<text text-anchor=\"start\" x=\"274\" y=\"-268.3\" font-family=\"Helvetica,sans-Serif\" font-size=\"14.00\">samples = 5</text>\r\n",
       "<text text-anchor=\"start\" x=\"273\" y=\"-253.3\" font-family=\"Helvetica,sans-Serif\" font-size=\"14.00\">value = [2, 3]</text>\r\n",
       "<text text-anchor=\"start\" x=\"259\" y=\"-238.3\" font-family=\"Helvetica,sans-Serif\" font-size=\"14.00\">class = Malignant</text>\r\n",
       "</g>\r\n",
       "<!-- 7&#45;&gt;8 -->\r\n",
       "<g id=\"edge8\" class=\"edge\"><title>7&#45;&gt;8</title>\r\n",
       "<path fill=\"none\" stroke=\"black\" d=\"M406.887,-341.907C392.321,-329.99 376.415,-316.976 361.924,-305.12\"/>\r\n",
       "<polygon fill=\"black\" stroke=\"black\" points=\"363.993,-302.29 354.037,-298.667 359.561,-307.708 363.993,-302.29\"/>\r\n",
       "</g>\r\n",
       "<!-- 9 -->\r\n",
       "<g id=\"node10\" class=\"node\"><title>9</title>\r\n",
       "<path fill=\"#399de5\" stroke=\"black\" d=\"M507,-298.5C507,-298.5 406,-298.5 406,-298.5 400,-298.5 394,-292.5 394,-286.5 394,-286.5 394,-242.5 394,-242.5 394,-236.5 400,-230.5 406,-230.5 406,-230.5 507,-230.5 507,-230.5 513,-230.5 519,-236.5 519,-242.5 519,-242.5 519,-286.5 519,-286.5 519,-292.5 513,-298.5 507,-298.5\"/>\r\n",
       "<text text-anchor=\"start\" x=\"414.5\" y=\"-283.3\" font-family=\"Helvetica,sans-Serif\" font-size=\"14.00\">entropy = 0.0</text>\r\n",
       "<text text-anchor=\"start\" x=\"417\" y=\"-268.3\" font-family=\"Helvetica,sans-Serif\" font-size=\"14.00\">samples = 7</text>\r\n",
       "<text text-anchor=\"start\" x=\"416\" y=\"-253.3\" font-family=\"Helvetica,sans-Serif\" font-size=\"14.00\">value = [0, 7]</text>\r\n",
       "<text text-anchor=\"start\" x=\"402\" y=\"-238.3\" font-family=\"Helvetica,sans-Serif\" font-size=\"14.00\">class = Malignant</text>\r\n",
       "</g>\r\n",
       "<!-- 7&#45;&gt;9 -->\r\n",
       "<g id=\"edge9\" class=\"edge\"><title>7&#45;&gt;9</title>\r\n",
       "<path fill=\"none\" stroke=\"black\" d=\"M456.5,-341.907C456.5,-331.204 456.5,-319.615 456.5,-308.776\"/>\r\n",
       "<polygon fill=\"black\" stroke=\"black\" points=\"460,-308.667 456.5,-298.667 453,-308.667 460,-308.667\"/>\r\n",
       "</g>\r\n",
       "<!-- 11 -->\r\n",
       "<g id=\"node12\" class=\"node\"><title>11</title>\r\n",
       "<path fill=\"#b8dcf6\" stroke=\"black\" d=\"M875,-544C875,-544 774,-544 774,-544 768,-544 762,-538 762,-532 762,-532 762,-473 762,-473 762,-467 768,-461 774,-461 774,-461 875,-461 875,-461 881,-461 887,-467 887,-473 887,-473 887,-532 887,-532 887,-538 881,-544 875,-544\"/>\r\n",
       "<text text-anchor=\"start\" x=\"786.5\" y=\"-528.8\" font-family=\"Helvetica,sans-Serif\" font-size=\"14.00\">BareN ≤ 2.5</text>\r\n",
       "<text text-anchor=\"start\" x=\"774.5\" y=\"-513.8\" font-family=\"Helvetica,sans-Serif\" font-size=\"14.00\">entropy = 0.966</text>\r\n",
       "<text text-anchor=\"start\" x=\"781\" y=\"-498.8\" font-family=\"Helvetica,sans-Serif\" font-size=\"14.00\">samples = 92</text>\r\n",
       "<text text-anchor=\"start\" x=\"776\" y=\"-483.8\" font-family=\"Helvetica,sans-Serif\" font-size=\"14.00\">value = [36, 56]</text>\r\n",
       "<text text-anchor=\"start\" x=\"770\" y=\"-468.8\" font-family=\"Helvetica,sans-Serif\" font-size=\"14.00\">class = Malignant</text>\r\n",
       "</g>\r\n",
       "<!-- 10&#45;&gt;11 -->\r\n",
       "<g id=\"edge11\" class=\"edge\"><title>10&#45;&gt;11</title>\r\n",
       "<path fill=\"none\" stroke=\"black\" d=\"M824.5,-579.907C824.5,-571.649 824.5,-562.864 824.5,-554.302\"/>\r\n",
       "<polygon fill=\"black\" stroke=\"black\" points=\"828,-554.021 824.5,-544.021 821,-554.021 828,-554.021\"/>\r\n",
       "</g>\r\n",
       "<!-- 28 -->\r\n",
       "<g id=\"node29\" class=\"node\"><title>28</title>\r\n",
       "<path fill=\"#3fa0e6\" stroke=\"black\" d=\"M1436,-544C1436,-544 1335,-544 1335,-544 1329,-544 1323,-538 1323,-532 1323,-532 1323,-473 1323,-473 1323,-467 1329,-461 1335,-461 1335,-461 1436,-461 1436,-461 1442,-461 1448,-467 1448,-473 1448,-473 1448,-532 1448,-532 1448,-538 1442,-544 1436,-544\"/>\r\n",
       "<text text-anchor=\"start\" x=\"1347\" y=\"-528.8\" font-family=\"Helvetica,sans-Serif\" font-size=\"14.00\">Clump ≤ 6.5</text>\r\n",
       "<text text-anchor=\"start\" x=\"1335.5\" y=\"-513.8\" font-family=\"Helvetica,sans-Serif\" font-size=\"14.00\">entropy = 0.185</text>\r\n",
       "<text text-anchor=\"start\" x=\"1338\" y=\"-498.8\" font-family=\"Helvetica,sans-Serif\" font-size=\"14.00\">samples = 178</text>\r\n",
       "<text text-anchor=\"start\" x=\"1337\" y=\"-483.8\" font-family=\"Helvetica,sans-Serif\" font-size=\"14.00\">value = [5, 173]</text>\r\n",
       "<text text-anchor=\"start\" x=\"1331\" y=\"-468.8\" font-family=\"Helvetica,sans-Serif\" font-size=\"14.00\">class = Malignant</text>\r\n",
       "</g>\r\n",
       "<!-- 10&#45;&gt;28 -->\r\n",
       "<g id=\"edge28\" class=\"edge\"><title>10&#45;&gt;28</title>\r\n",
       "<path fill=\"none\" stroke=\"black\" d=\"M891.057,-606.619C997.024,-584.519 1203.29,-541.502 1312.92,-518.637\"/>\r\n",
       "<polygon fill=\"black\" stroke=\"black\" points=\"1313.82,-522.024 1322.9,-516.556 1312.4,-515.171 1313.82,-522.024\"/>\r\n",
       "</g>\r\n",
       "<!-- 12 -->\r\n",
       "<g id=\"node13\" class=\"node\"><title>12</title>\r\n",
       "<path fill=\"#ea995f\" stroke=\"black\" d=\"M766.5,-425C766.5,-425 674.5,-425 674.5,-425 668.5,-425 662.5,-419 662.5,-413 662.5,-413 662.5,-354 662.5,-354 662.5,-348 668.5,-342 674.5,-342 674.5,-342 766.5,-342 766.5,-342 772.5,-342 778.5,-348 778.5,-354 778.5,-354 778.5,-413 778.5,-413 778.5,-419 772.5,-425 766.5,-425\"/>\r\n",
       "<text text-anchor=\"start\" x=\"678.5\" y=\"-409.8\" font-family=\"Helvetica,sans-Serif\" font-size=\"14.00\">NoemN ≤ 2.5</text>\r\n",
       "<text text-anchor=\"start\" x=\"670.5\" y=\"-394.8\" font-family=\"Helvetica,sans-Serif\" font-size=\"14.00\">entropy = 0.637</text>\r\n",
       "<text text-anchor=\"start\" x=\"677\" y=\"-379.8\" font-family=\"Helvetica,sans-Serif\" font-size=\"14.00\">samples = 31</text>\r\n",
       "<text text-anchor=\"start\" x=\"676\" y=\"-364.8\" font-family=\"Helvetica,sans-Serif\" font-size=\"14.00\">value = [26, 5]</text>\r\n",
       "<text text-anchor=\"start\" x=\"673.5\" y=\"-349.8\" font-family=\"Helvetica,sans-Serif\" font-size=\"14.00\">class = Benign</text>\r\n",
       "</g>\r\n",
       "<!-- 11&#45;&gt;12 -->\r\n",
       "<g id=\"edge12\" class=\"edge\"><title>11&#45;&gt;12</title>\r\n",
       "<path fill=\"none\" stroke=\"black\" d=\"M788.418,-460.907C780.351,-451.832 771.719,-442.121 763.406,-432.769\"/>\r\n",
       "<polygon fill=\"black\" stroke=\"black\" points=\"765.778,-430.17 756.518,-425.021 760.546,-434.82 765.778,-430.17\"/>\r\n",
       "</g>\r\n",
       "<!-- 17 -->\r\n",
       "<g id=\"node18\" class=\"node\"><title>17</title>\r\n",
       "<path fill=\"#60b0ea\" stroke=\"black\" d=\"M979,-425C979,-425 878,-425 878,-425 872,-425 866,-419 866,-413 866,-413 866,-354 866,-354 866,-348 872,-342 878,-342 878,-342 979,-342 979,-342 985,-342 991,-348 991,-354 991,-354 991,-413 991,-413 991,-419 985,-425 979,-425\"/>\r\n",
       "<text text-anchor=\"start\" x=\"890\" y=\"-409.8\" font-family=\"Helvetica,sans-Serif\" font-size=\"14.00\">Clump ≤ 6.5</text>\r\n",
       "<text text-anchor=\"start\" x=\"878.5\" y=\"-394.8\" font-family=\"Helvetica,sans-Serif\" font-size=\"14.00\">entropy = 0.644</text>\r\n",
       "<text text-anchor=\"start\" x=\"885\" y=\"-379.8\" font-family=\"Helvetica,sans-Serif\" font-size=\"14.00\">samples = 61</text>\r\n",
       "<text text-anchor=\"start\" x=\"880\" y=\"-364.8\" font-family=\"Helvetica,sans-Serif\" font-size=\"14.00\">value = [10, 51]</text>\r\n",
       "<text text-anchor=\"start\" x=\"874\" y=\"-349.8\" font-family=\"Helvetica,sans-Serif\" font-size=\"14.00\">class = Malignant</text>\r\n",
       "</g>\r\n",
       "<!-- 11&#45;&gt;17 -->\r\n",
       "<g id=\"edge17\" class=\"edge\"><title>11&#45;&gt;17</title>\r\n",
       "<path fill=\"none\" stroke=\"black\" d=\"M860.582,-460.907C868.649,-451.832 877.281,-442.121 885.594,-432.769\"/>\r\n",
       "<polygon fill=\"black\" stroke=\"black\" points=\"888.454,-434.82 892.482,-425.021 883.222,-430.17 888.454,-434.82\"/>\r\n",
       "</g>\r\n",
       "<!-- 13 -->\r\n",
       "<g id=\"node14\" class=\"node\"><title>13</title>\r\n",
       "<path fill=\"#e58139\" stroke=\"black\" d=\"M635.5,-298.5C635.5,-298.5 549.5,-298.5 549.5,-298.5 543.5,-298.5 537.5,-292.5 537.5,-286.5 537.5,-286.5 537.5,-242.5 537.5,-242.5 537.5,-236.5 543.5,-230.5 549.5,-230.5 549.5,-230.5 635.5,-230.5 635.5,-230.5 641.5,-230.5 647.5,-236.5 647.5,-242.5 647.5,-242.5 647.5,-286.5 647.5,-286.5 647.5,-292.5 641.5,-298.5 635.5,-298.5\"/>\r\n",
       "<text text-anchor=\"start\" x=\"550.5\" y=\"-283.3\" font-family=\"Helvetica,sans-Serif\" font-size=\"14.00\">entropy = 0.0</text>\r\n",
       "<text text-anchor=\"start\" x=\"549\" y=\"-268.3\" font-family=\"Helvetica,sans-Serif\" font-size=\"14.00\">samples = 19</text>\r\n",
       "<text text-anchor=\"start\" x=\"548\" y=\"-253.3\" font-family=\"Helvetica,sans-Serif\" font-size=\"14.00\">value = [19, 0]</text>\r\n",
       "<text text-anchor=\"start\" x=\"545.5\" y=\"-238.3\" font-family=\"Helvetica,sans-Serif\" font-size=\"14.00\">class = Benign</text>\r\n",
       "</g>\r\n",
       "<!-- 12&#45;&gt;13 -->\r\n",
       "<g id=\"edge13\" class=\"edge\"><title>12&#45;&gt;13</title>\r\n",
       "<path fill=\"none\" stroke=\"black\" d=\"M676.091,-341.907C663.174,-330.101 649.079,-317.217 636.205,-305.45\"/>\r\n",
       "<polygon fill=\"black\" stroke=\"black\" points=\"638.528,-302.83 628.785,-298.667 633.805,-307.997 638.528,-302.83\"/>\r\n",
       "</g>\r\n",
       "<!-- 14 -->\r\n",
       "<g id=\"node15\" class=\"node\"><title>14</title>\r\n",
       "<path fill=\"#f8dbc6\" stroke=\"black\" d=\"M763.5,-306C763.5,-306 677.5,-306 677.5,-306 671.5,-306 665.5,-300 665.5,-294 665.5,-294 665.5,-235 665.5,-235 665.5,-229 671.5,-223 677.5,-223 677.5,-223 763.5,-223 763.5,-223 769.5,-223 775.5,-229 775.5,-235 775.5,-235 775.5,-294 775.5,-294 775.5,-300 769.5,-306 763.5,-306\"/>\r\n",
       "<text text-anchor=\"start\" x=\"681.5\" y=\"-290.8\" font-family=\"Helvetica,sans-Serif\" font-size=\"14.00\">SEpith ≤ 3.5</text>\r\n",
       "<text text-anchor=\"start\" x=\"674.5\" y=\"-275.8\" font-family=\"Helvetica,sans-Serif\" font-size=\"14.00\">entropy = 0.98</text>\r\n",
       "<text text-anchor=\"start\" x=\"677\" y=\"-260.8\" font-family=\"Helvetica,sans-Serif\" font-size=\"14.00\">samples = 12</text>\r\n",
       "<text text-anchor=\"start\" x=\"680\" y=\"-245.8\" font-family=\"Helvetica,sans-Serif\" font-size=\"14.00\">value = [7, 5]</text>\r\n",
       "<text text-anchor=\"start\" x=\"673.5\" y=\"-230.8\" font-family=\"Helvetica,sans-Serif\" font-size=\"14.00\">class = Benign</text>\r\n",
       "</g>\r\n",
       "<!-- 12&#45;&gt;14 -->\r\n",
       "<g id=\"edge14\" class=\"edge\"><title>12&#45;&gt;14</title>\r\n",
       "<path fill=\"none\" stroke=\"black\" d=\"M720.5,-341.907C720.5,-333.649 720.5,-324.864 720.5,-316.302\"/>\r\n",
       "<polygon fill=\"black\" stroke=\"black\" points=\"724,-316.021 720.5,-306.021 717,-316.021 724,-316.021\"/>\r\n",
       "</g>\r\n",
       "<!-- 15 -->\r\n",
       "<g id=\"node16\" class=\"node\"><title>15</title>\r\n",
       "<path fill=\"#e9965a\" stroke=\"black\" d=\"M592.5,-179.5C592.5,-179.5 500.5,-179.5 500.5,-179.5 494.5,-179.5 488.5,-173.5 488.5,-167.5 488.5,-167.5 488.5,-123.5 488.5,-123.5 488.5,-117.5 494.5,-111.5 500.5,-111.5 500.5,-111.5 592.5,-111.5 592.5,-111.5 598.5,-111.5 604.5,-117.5 604.5,-123.5 604.5,-123.5 604.5,-167.5 604.5,-167.5 604.5,-173.5 598.5,-179.5 592.5,-179.5\"/>\r\n",
       "<text text-anchor=\"start\" x=\"496.5\" y=\"-164.3\" font-family=\"Helvetica,sans-Serif\" font-size=\"14.00\">entropy = 0.592</text>\r\n",
       "<text text-anchor=\"start\" x=\"507\" y=\"-149.3\" font-family=\"Helvetica,sans-Serif\" font-size=\"14.00\">samples = 7</text>\r\n",
       "<text text-anchor=\"start\" x=\"506\" y=\"-134.3\" font-family=\"Helvetica,sans-Serif\" font-size=\"14.00\">value = [6, 1]</text>\r\n",
       "<text text-anchor=\"start\" x=\"499.5\" y=\"-119.3\" font-family=\"Helvetica,sans-Serif\" font-size=\"14.00\">class = Benign</text>\r\n",
       "</g>\r\n",
       "<!-- 14&#45;&gt;15 -->\r\n",
       "<g id=\"edge15\" class=\"edge\"><title>14&#45;&gt;15</title>\r\n",
       "<path fill=\"none\" stroke=\"black\" d=\"M665.445,-226.48C645.844,-213.3 623.73,-198.43 603.934,-185.119\"/>\r\n",
       "<polygon fill=\"black\" stroke=\"black\" points=\"605.857,-182.195 595.606,-179.519 601.951,-188.004 605.857,-182.195\"/>\r\n",
       "</g>\r\n",
       "<!-- 16 -->\r\n",
       "<g id=\"node17\" class=\"node\"><title>16</title>\r\n",
       "<path fill=\"#6ab6ec\" stroke=\"black\" d=\"M736,-179.5C736,-179.5 635,-179.5 635,-179.5 629,-179.5 623,-173.5 623,-167.5 623,-167.5 623,-123.5 623,-123.5 623,-117.5 629,-111.5 635,-111.5 635,-111.5 736,-111.5 736,-111.5 742,-111.5 748,-117.5 748,-123.5 748,-123.5 748,-167.5 748,-167.5 748,-173.5 742,-179.5 736,-179.5\"/>\r\n",
       "<text text-anchor=\"start\" x=\"635.5\" y=\"-164.3\" font-family=\"Helvetica,sans-Serif\" font-size=\"14.00\">entropy = 0.722</text>\r\n",
       "<text text-anchor=\"start\" x=\"646\" y=\"-149.3\" font-family=\"Helvetica,sans-Serif\" font-size=\"14.00\">samples = 5</text>\r\n",
       "<text text-anchor=\"start\" x=\"645\" y=\"-134.3\" font-family=\"Helvetica,sans-Serif\" font-size=\"14.00\">value = [1, 4]</text>\r\n",
       "<text text-anchor=\"start\" x=\"631\" y=\"-119.3\" font-family=\"Helvetica,sans-Serif\" font-size=\"14.00\">class = Malignant</text>\r\n",
       "</g>\r\n",
       "<!-- 14&#45;&gt;16 -->\r\n",
       "<g id=\"edge16\" class=\"edge\"><title>14&#45;&gt;16</title>\r\n",
       "<path fill=\"none\" stroke=\"black\" d=\"M708.357,-222.907C705.122,-212.094 701.617,-200.376 698.346,-189.441\"/>\r\n",
       "<polygon fill=\"black\" stroke=\"black\" points=\"701.641,-188.244 695.422,-179.667 694.935,-190.251 701.641,-188.244\"/>\r\n",
       "</g>\r\n",
       "<!-- 18 -->\r\n",
       "<g id=\"node19\" class=\"node\"><title>18</title>\r\n",
       "<path fill=\"#97cbf1\" stroke=\"black\" d=\"M979.5,-306C979.5,-306 877.5,-306 877.5,-306 871.5,-306 865.5,-300 865.5,-294 865.5,-294 865.5,-235 865.5,-235 865.5,-229 871.5,-223 877.5,-223 877.5,-223 979.5,-223 979.5,-223 985.5,-223 991.5,-229 991.5,-235 991.5,-235 991.5,-294 991.5,-294 991.5,-300 985.5,-306 979.5,-306\"/>\r\n",
       "<text text-anchor=\"start\" x=\"873.5\" y=\"-290.8\" font-family=\"Helvetica,sans-Serif\" font-size=\"14.00\">BChromatin ≤ 3.5</text>\r\n",
       "<text text-anchor=\"start\" x=\"878.5\" y=\"-275.8\" font-family=\"Helvetica,sans-Serif\" font-size=\"14.00\">entropy = 0.906</text>\r\n",
       "<text text-anchor=\"start\" x=\"885\" y=\"-260.8\" font-family=\"Helvetica,sans-Serif\" font-size=\"14.00\">samples = 28</text>\r\n",
       "<text text-anchor=\"start\" x=\"884\" y=\"-245.8\" font-family=\"Helvetica,sans-Serif\" font-size=\"14.00\">value = [9, 19]</text>\r\n",
       "<text text-anchor=\"start\" x=\"874\" y=\"-230.8\" font-family=\"Helvetica,sans-Serif\" font-size=\"14.00\">class = Malignant</text>\r\n",
       "</g>\r\n",
       "<!-- 17&#45;&gt;18 -->\r\n",
       "<g id=\"edge18\" class=\"edge\"><title>17&#45;&gt;18</title>\r\n",
       "<path fill=\"none\" stroke=\"black\" d=\"M928.5,-341.907C928.5,-333.649 928.5,-324.864 928.5,-316.302\"/>\r\n",
       "<polygon fill=\"black\" stroke=\"black\" points=\"932,-316.021 928.5,-306.021 925,-316.021 932,-316.021\"/>\r\n",
       "</g>\r\n",
       "<!-- 25 -->\r\n",
       "<g id=\"node26\" class=\"node\"><title>25</title>\r\n",
       "<path fill=\"#3fa0e6\" stroke=\"black\" d=\"M1157,-306C1157,-306 1056,-306 1056,-306 1050,-306 1044,-300 1044,-294 1044,-294 1044,-235 1044,-235 1044,-229 1050,-223 1056,-223 1056,-223 1157,-223 1157,-223 1163,-223 1169,-229 1169,-235 1169,-235 1169,-294 1169,-294 1169,-300 1163,-306 1157,-306\"/>\r\n",
       "<text text-anchor=\"start\" x=\"1064.5\" y=\"-290.8\" font-family=\"Helvetica,sans-Serif\" font-size=\"14.00\">NoemN ≤ 7.0</text>\r\n",
       "<text text-anchor=\"start\" x=\"1056.5\" y=\"-275.8\" font-family=\"Helvetica,sans-Serif\" font-size=\"14.00\">entropy = 0.196</text>\r\n",
       "<text text-anchor=\"start\" x=\"1063\" y=\"-260.8\" font-family=\"Helvetica,sans-Serif\" font-size=\"14.00\">samples = 33</text>\r\n",
       "<text text-anchor=\"start\" x=\"1062\" y=\"-245.8\" font-family=\"Helvetica,sans-Serif\" font-size=\"14.00\">value = [1, 32]</text>\r\n",
       "<text text-anchor=\"start\" x=\"1052\" y=\"-230.8\" font-family=\"Helvetica,sans-Serif\" font-size=\"14.00\">class = Malignant</text>\r\n",
       "</g>\r\n",
       "<!-- 17&#45;&gt;25 -->\r\n",
       "<g id=\"edge25\" class=\"edge\"><title>17&#45;&gt;25</title>\r\n",
       "<path fill=\"none\" stroke=\"black\" d=\"M990.256,-341.907C1005.17,-332.106 1021.21,-321.563 1036.47,-311.533\"/>\r\n",
       "<polygon fill=\"black\" stroke=\"black\" points=\"1038.42,-314.438 1044.85,-306.021 1034.57,-308.589 1038.42,-314.438\"/>\r\n",
       "</g>\r\n",
       "<!-- 19 -->\r\n",
       "<g id=\"node20\" class=\"node\"><title>19</title>\r\n",
       "<path fill=\"#f6d5bd\" stroke=\"black\" d=\"M870.5,-187C870.5,-187 778.5,-187 778.5,-187 772.5,-187 766.5,-181 766.5,-175 766.5,-175 766.5,-116 766.5,-116 766.5,-110 772.5,-104 778.5,-104 778.5,-104 870.5,-104 870.5,-104 876.5,-104 882.5,-110 882.5,-116 882.5,-116 882.5,-175 882.5,-175 882.5,-181 876.5,-187 870.5,-187\"/>\r\n",
       "<text text-anchor=\"start\" x=\"782.5\" y=\"-171.8\" font-family=\"Helvetica,sans-Serif\" font-size=\"14.00\">NoemN ≤ 2.5</text>\r\n",
       "<text text-anchor=\"start\" x=\"774.5\" y=\"-156.8\" font-family=\"Helvetica,sans-Serif\" font-size=\"14.00\">entropy = 0.971</text>\r\n",
       "<text text-anchor=\"start\" x=\"781\" y=\"-141.8\" font-family=\"Helvetica,sans-Serif\" font-size=\"14.00\">samples = 10</text>\r\n",
       "<text text-anchor=\"start\" x=\"784\" y=\"-126.8\" font-family=\"Helvetica,sans-Serif\" font-size=\"14.00\">value = [6, 4]</text>\r\n",
       "<text text-anchor=\"start\" x=\"777.5\" y=\"-111.8\" font-family=\"Helvetica,sans-Serif\" font-size=\"14.00\">class = Benign</text>\r\n",
       "</g>\r\n",
       "<!-- 18&#45;&gt;19 -->\r\n",
       "<g id=\"edge19\" class=\"edge\"><title>18&#45;&gt;19</title>\r\n",
       "<path fill=\"none\" stroke=\"black\" d=\"M892.418,-222.907C884.351,-213.832 875.719,-204.121 867.406,-194.769\"/>\r\n",
       "<polygon fill=\"black\" stroke=\"black\" points=\"869.778,-192.17 860.518,-187.021 864.546,-196.82 869.778,-192.17\"/>\r\n",
       "</g>\r\n",
       "<!-- 22 -->\r\n",
       "<g id=\"node23\" class=\"node\"><title>22</title>\r\n",
       "<path fill=\"#61b1ea\" stroke=\"black\" d=\"M1014,-187C1014,-187 913,-187 913,-187 907,-187 901,-181 901,-175 901,-175 901,-116 901,-116 901,-110 907,-104 913,-104 913,-104 1014,-104 1014,-104 1020,-104 1026,-110 1026,-116 1026,-116 1026,-175 1026,-175 1026,-181 1020,-187 1014,-187\"/>\r\n",
       "<text text-anchor=\"start\" x=\"925.5\" y=\"-171.8\" font-family=\"Helvetica,sans-Serif\" font-size=\"14.00\">BareN ≤ 6.0</text>\r\n",
       "<text text-anchor=\"start\" x=\"917.5\" y=\"-156.8\" font-family=\"Helvetica,sans-Serif\" font-size=\"14.00\">entropy = 0.65</text>\r\n",
       "<text text-anchor=\"start\" x=\"920\" y=\"-141.8\" font-family=\"Helvetica,sans-Serif\" font-size=\"14.00\">samples = 18</text>\r\n",
       "<text text-anchor=\"start\" x=\"919\" y=\"-126.8\" font-family=\"Helvetica,sans-Serif\" font-size=\"14.00\">value = [3, 15]</text>\r\n",
       "<text text-anchor=\"start\" x=\"909\" y=\"-111.8\" font-family=\"Helvetica,sans-Serif\" font-size=\"14.00\">class = Malignant</text>\r\n",
       "</g>\r\n",
       "<!-- 18&#45;&gt;22 -->\r\n",
       "<g id=\"edge22\" class=\"edge\"><title>18&#45;&gt;22</title>\r\n",
       "<path fill=\"none\" stroke=\"black\" d=\"M940.643,-222.907C943.168,-214.468 945.857,-205.477 948.471,-196.738\"/>\r\n",
       "<polygon fill=\"black\" stroke=\"black\" points=\"951.866,-197.604 951.378,-187.021 945.159,-195.598 951.866,-197.604\"/>\r\n",
       "</g>\r\n",
       "<!-- 20 -->\r\n",
       "<g id=\"node21\" class=\"node\"><title>20</title>\r\n",
       "<path fill=\"#eca06a\" stroke=\"black\" d=\"M732.5,-68C732.5,-68 640.5,-68 640.5,-68 634.5,-68 628.5,-62 628.5,-56 628.5,-56 628.5,-12 628.5,-12 628.5,-6 634.5,-0 640.5,-0 640.5,-0 732.5,-0 732.5,-0 738.5,-0 744.5,-6 744.5,-12 744.5,-12 744.5,-56 744.5,-56 744.5,-62 738.5,-68 732.5,-68\"/>\r\n",
       "<text text-anchor=\"start\" x=\"636.5\" y=\"-52.8\" font-family=\"Helvetica,sans-Serif\" font-size=\"14.00\">entropy = 0.722</text>\r\n",
       "<text text-anchor=\"start\" x=\"647\" y=\"-37.8\" font-family=\"Helvetica,sans-Serif\" font-size=\"14.00\">samples = 5</text>\r\n",
       "<text text-anchor=\"start\" x=\"646\" y=\"-22.8\" font-family=\"Helvetica,sans-Serif\" font-size=\"14.00\">value = [4, 1]</text>\r\n",
       "<text text-anchor=\"start\" x=\"639.5\" y=\"-7.8\" font-family=\"Helvetica,sans-Serif\" font-size=\"14.00\">class = Benign</text>\r\n",
       "</g>\r\n",
       "<!-- 19&#45;&gt;20 -->\r\n",
       "<g id=\"edge20\" class=\"edge\"><title>19&#45;&gt;20</title>\r\n",
       "<path fill=\"none\" stroke=\"black\" d=\"M773.114,-103.726C761.159,-94.2406 748.449,-84.1551 736.553,-74.7159\"/>\r\n",
       "<polygon fill=\"black\" stroke=\"black\" points=\"738.476,-71.7736 728.467,-68.2996 734.125,-77.2571 738.476,-71.7736\"/>\r\n",
       "</g>\r\n",
       "<!-- 21 -->\r\n",
       "<g id=\"node22\" class=\"node\"><title>21</title>\r\n",
       "<path fill=\"#bddef6\" stroke=\"black\" d=\"M876,-68C876,-68 775,-68 775,-68 769,-68 763,-62 763,-56 763,-56 763,-12 763,-12 763,-6 769,-0 775,-0 775,-0 876,-0 876,-0 882,-0 888,-6 888,-12 888,-12 888,-56 888,-56 888,-62 882,-68 876,-68\"/>\r\n",
       "<text text-anchor=\"start\" x=\"775.5\" y=\"-52.8\" font-family=\"Helvetica,sans-Serif\" font-size=\"14.00\">entropy = 0.971</text>\r\n",
       "<text text-anchor=\"start\" x=\"786\" y=\"-37.8\" font-family=\"Helvetica,sans-Serif\" font-size=\"14.00\">samples = 5</text>\r\n",
       "<text text-anchor=\"start\" x=\"785\" y=\"-22.8\" font-family=\"Helvetica,sans-Serif\" font-size=\"14.00\">value = [2, 3]</text>\r\n",
       "<text text-anchor=\"start\" x=\"771\" y=\"-7.8\" font-family=\"Helvetica,sans-Serif\" font-size=\"14.00\">class = Malignant</text>\r\n",
       "</g>\r\n",
       "<!-- 19&#45;&gt;21 -->\r\n",
       "<g id=\"edge21\" class=\"edge\"><title>19&#45;&gt;21</title>\r\n",
       "<path fill=\"none\" stroke=\"black\" d=\"M824.872,-103.726C824.947,-95.5175 825.026,-86.8595 825.102,-78.56\"/>\r\n",
       "<polygon fill=\"black\" stroke=\"black\" points=\"828.604,-78.3312 825.196,-68.2996 821.605,-78.2672 828.604,-78.3312\"/>\r\n",
       "</g>\r\n",
       "<!-- 23 -->\r\n",
       "<g id=\"node24\" class=\"node\"><title>23</title>\r\n",
       "<path fill=\"#ffffff\" stroke=\"black\" d=\"M1005.5,-68C1005.5,-68 919.5,-68 919.5,-68 913.5,-68 907.5,-62 907.5,-56 907.5,-56 907.5,-12 907.5,-12 907.5,-6 913.5,-0 919.5,-0 919.5,-0 1005.5,-0 1005.5,-0 1011.5,-0 1017.5,-6 1017.5,-12 1017.5,-12 1017.5,-56 1017.5,-56 1017.5,-62 1011.5,-68 1005.5,-68\"/>\r\n",
       "<text text-anchor=\"start\" x=\"920.5\" y=\"-52.8\" font-family=\"Helvetica,sans-Serif\" font-size=\"14.00\">entropy = 1.0</text>\r\n",
       "<text text-anchor=\"start\" x=\"923\" y=\"-37.8\" font-family=\"Helvetica,sans-Serif\" font-size=\"14.00\">samples = 6</text>\r\n",
       "<text text-anchor=\"start\" x=\"922\" y=\"-22.8\" font-family=\"Helvetica,sans-Serif\" font-size=\"14.00\">value = [3, 3]</text>\r\n",
       "<text text-anchor=\"start\" x=\"915.5\" y=\"-7.8\" font-family=\"Helvetica,sans-Serif\" font-size=\"14.00\">class = Benign</text>\r\n",
       "</g>\r\n",
       "<!-- 22&#45;&gt;23 -->\r\n",
       "<g id=\"edge23\" class=\"edge\"><title>22&#45;&gt;23</title>\r\n",
       "<path fill=\"none\" stroke=\"black\" d=\"M963.128,-103.726C963.053,-95.5175 962.974,-86.8595 962.898,-78.56\"/>\r\n",
       "<polygon fill=\"black\" stroke=\"black\" points=\"966.395,-78.2672 962.804,-68.2996 959.396,-78.3312 966.395,-78.2672\"/>\r\n",
       "</g>\r\n",
       "<!-- 24 -->\r\n",
       "<g id=\"node25\" class=\"node\"><title>24</title>\r\n",
       "<path fill=\"#399de5\" stroke=\"black\" d=\"M1149,-68C1149,-68 1048,-68 1048,-68 1042,-68 1036,-62 1036,-56 1036,-56 1036,-12 1036,-12 1036,-6 1042,-0 1048,-0 1048,-0 1149,-0 1149,-0 1155,-0 1161,-6 1161,-12 1161,-12 1161,-56 1161,-56 1161,-62 1155,-68 1149,-68\"/>\r\n",
       "<text text-anchor=\"start\" x=\"1056.5\" y=\"-52.8\" font-family=\"Helvetica,sans-Serif\" font-size=\"14.00\">entropy = 0.0</text>\r\n",
       "<text text-anchor=\"start\" x=\"1055\" y=\"-37.8\" font-family=\"Helvetica,sans-Serif\" font-size=\"14.00\">samples = 12</text>\r\n",
       "<text text-anchor=\"start\" x=\"1054\" y=\"-22.8\" font-family=\"Helvetica,sans-Serif\" font-size=\"14.00\">value = [0, 12]</text>\r\n",
       "<text text-anchor=\"start\" x=\"1044\" y=\"-7.8\" font-family=\"Helvetica,sans-Serif\" font-size=\"14.00\">class = Malignant</text>\r\n",
       "</g>\r\n",
       "<!-- 22&#45;&gt;24 -->\r\n",
       "<g id=\"edge24\" class=\"edge\"><title>22&#45;&gt;24</title>\r\n",
       "<path fill=\"none\" stroke=\"black\" d=\"M1013.77,-103.726C1025.46,-94.2406 1037.9,-84.1551 1049.54,-74.7159\"/>\r\n",
       "<polygon fill=\"black\" stroke=\"black\" points=\"1051.88,-77.3173 1057.45,-68.2996 1047.47,-71.8808 1051.88,-77.3173\"/>\r\n",
       "</g>\r\n",
       "<!-- 26 -->\r\n",
       "<g id=\"node27\" class=\"node\"><title>26</title>\r\n",
       "<path fill=\"#399de5\" stroke=\"black\" d=\"M1157,-179.5C1157,-179.5 1056,-179.5 1056,-179.5 1050,-179.5 1044,-173.5 1044,-167.5 1044,-167.5 1044,-123.5 1044,-123.5 1044,-117.5 1050,-111.5 1056,-111.5 1056,-111.5 1157,-111.5 1157,-111.5 1163,-111.5 1169,-117.5 1169,-123.5 1169,-123.5 1169,-167.5 1169,-167.5 1169,-173.5 1163,-179.5 1157,-179.5\"/>\r\n",
       "<text text-anchor=\"start\" x=\"1064.5\" y=\"-164.3\" font-family=\"Helvetica,sans-Serif\" font-size=\"14.00\">entropy = 0.0</text>\r\n",
       "<text text-anchor=\"start\" x=\"1063\" y=\"-149.3\" font-family=\"Helvetica,sans-Serif\" font-size=\"14.00\">samples = 24</text>\r\n",
       "<text text-anchor=\"start\" x=\"1062\" y=\"-134.3\" font-family=\"Helvetica,sans-Serif\" font-size=\"14.00\">value = [0, 24]</text>\r\n",
       "<text text-anchor=\"start\" x=\"1052\" y=\"-119.3\" font-family=\"Helvetica,sans-Serif\" font-size=\"14.00\">class = Malignant</text>\r\n",
       "</g>\r\n",
       "<!-- 25&#45;&gt;26 -->\r\n",
       "<g id=\"edge26\" class=\"edge\"><title>25&#45;&gt;26</title>\r\n",
       "<path fill=\"none\" stroke=\"black\" d=\"M1106.5,-222.907C1106.5,-212.204 1106.5,-200.615 1106.5,-189.776\"/>\r\n",
       "<polygon fill=\"black\" stroke=\"black\" points=\"1110,-189.667 1106.5,-179.667 1103,-189.667 1110,-189.667\"/>\r\n",
       "</g>\r\n",
       "<!-- 27 -->\r\n",
       "<g id=\"node28\" class=\"node\"><title>27</title>\r\n",
       "<path fill=\"#52a9e8\" stroke=\"black\" d=\"M1300,-179.5C1300,-179.5 1199,-179.5 1199,-179.5 1193,-179.5 1187,-173.5 1187,-167.5 1187,-167.5 1187,-123.5 1187,-123.5 1187,-117.5 1193,-111.5 1199,-111.5 1199,-111.5 1300,-111.5 1300,-111.5 1306,-111.5 1312,-117.5 1312,-123.5 1312,-123.5 1312,-167.5 1312,-167.5 1312,-173.5 1306,-179.5 1300,-179.5\"/>\r\n",
       "<text text-anchor=\"start\" x=\"1199.5\" y=\"-164.3\" font-family=\"Helvetica,sans-Serif\" font-size=\"14.00\">entropy = 0.503</text>\r\n",
       "<text text-anchor=\"start\" x=\"1210\" y=\"-149.3\" font-family=\"Helvetica,sans-Serif\" font-size=\"14.00\">samples = 9</text>\r\n",
       "<text text-anchor=\"start\" x=\"1209\" y=\"-134.3\" font-family=\"Helvetica,sans-Serif\" font-size=\"14.00\">value = [1, 8]</text>\r\n",
       "<text text-anchor=\"start\" x=\"1195\" y=\"-119.3\" font-family=\"Helvetica,sans-Serif\" font-size=\"14.00\">class = Malignant</text>\r\n",
       "</g>\r\n",
       "<!-- 25&#45;&gt;27 -->\r\n",
       "<g id=\"edge27\" class=\"edge\"><title>25&#45;&gt;27</title>\r\n",
       "<path fill=\"none\" stroke=\"black\" d=\"M1156.11,-222.907C1170.68,-210.99 1186.59,-197.976 1201.08,-186.12\"/>\r\n",
       "<polygon fill=\"black\" stroke=\"black\" points=\"1203.44,-188.708 1208.96,-179.667 1199.01,-183.29 1203.44,-188.708\"/>\r\n",
       "</g>\r\n",
       "<!-- 29 -->\r\n",
       "<g id=\"node30\" class=\"node\"><title>29</title>\r\n",
       "<path fill=\"#48a4e7\" stroke=\"black\" d=\"M1436,-425C1436,-425 1335,-425 1335,-425 1329,-425 1323,-419 1323,-413 1323,-413 1323,-354 1323,-354 1323,-348 1329,-342 1335,-342 1335,-342 1436,-342 1436,-342 1442,-342 1448,-348 1448,-354 1448,-354 1448,-413 1448,-413 1448,-419 1442,-425 1436,-425\"/>\r\n",
       "<text text-anchor=\"start\" x=\"1347.5\" y=\"-409.8\" font-family=\"Helvetica,sans-Serif\" font-size=\"14.00\">BareN ≤ 8.5</text>\r\n",
       "<text text-anchor=\"start\" x=\"1335.5\" y=\"-394.8\" font-family=\"Helvetica,sans-Serif\" font-size=\"14.00\">entropy = 0.364</text>\r\n",
       "<text text-anchor=\"start\" x=\"1342\" y=\"-379.8\" font-family=\"Helvetica,sans-Serif\" font-size=\"14.00\">samples = 72</text>\r\n",
       "<text text-anchor=\"start\" x=\"1341\" y=\"-364.8\" font-family=\"Helvetica,sans-Serif\" font-size=\"14.00\">value = [5, 67]</text>\r\n",
       "<text text-anchor=\"start\" x=\"1331\" y=\"-349.8\" font-family=\"Helvetica,sans-Serif\" font-size=\"14.00\">class = Malignant</text>\r\n",
       "</g>\r\n",
       "<!-- 28&#45;&gt;29 -->\r\n",
       "<g id=\"edge29\" class=\"edge\"><title>28&#45;&gt;29</title>\r\n",
       "<path fill=\"none\" stroke=\"black\" d=\"M1385.5,-460.907C1385.5,-452.649 1385.5,-443.864 1385.5,-435.302\"/>\r\n",
       "<polygon fill=\"black\" stroke=\"black\" points=\"1389,-435.021 1385.5,-425.021 1382,-435.021 1389,-435.021\"/>\r\n",
       "</g>\r\n",
       "<!-- 36 -->\r\n",
       "<g id=\"node37\" class=\"node\"><title>36</title>\r\n",
       "<path fill=\"#399de5\" stroke=\"black\" d=\"M1579,-417.5C1579,-417.5 1478,-417.5 1478,-417.5 1472,-417.5 1466,-411.5 1466,-405.5 1466,-405.5 1466,-361.5 1466,-361.5 1466,-355.5 1472,-349.5 1478,-349.5 1478,-349.5 1579,-349.5 1579,-349.5 1585,-349.5 1591,-355.5 1591,-361.5 1591,-361.5 1591,-405.5 1591,-405.5 1591,-411.5 1585,-417.5 1579,-417.5\"/>\r\n",
       "<text text-anchor=\"start\" x=\"1486.5\" y=\"-402.3\" font-family=\"Helvetica,sans-Serif\" font-size=\"14.00\">entropy = 0.0</text>\r\n",
       "<text text-anchor=\"start\" x=\"1481\" y=\"-387.3\" font-family=\"Helvetica,sans-Serif\" font-size=\"14.00\">samples = 106</text>\r\n",
       "<text text-anchor=\"start\" x=\"1480\" y=\"-372.3\" font-family=\"Helvetica,sans-Serif\" font-size=\"14.00\">value = [0, 106]</text>\r\n",
       "<text text-anchor=\"start\" x=\"1474\" y=\"-357.3\" font-family=\"Helvetica,sans-Serif\" font-size=\"14.00\">class = Malignant</text>\r\n",
       "</g>\r\n",
       "<!-- 28&#45;&gt;36 -->\r\n",
       "<g id=\"edge36\" class=\"edge\"><title>28&#45;&gt;36</title>\r\n",
       "<path fill=\"none\" stroke=\"black\" d=\"M1435.11,-460.907C1449.68,-448.99 1465.59,-435.976 1480.08,-424.12\"/>\r\n",
       "<polygon fill=\"black\" stroke=\"black\" points=\"1482.44,-426.708 1487.96,-417.667 1478.01,-421.29 1482.44,-426.708\"/>\r\n",
       "</g>\r\n",
       "<!-- 30 -->\r\n",
       "<g id=\"node31\" class=\"node\"><title>30</title>\r\n",
       "<path fill=\"#64b2eb\" stroke=\"black\" d=\"M1436.5,-306C1436.5,-306 1334.5,-306 1334.5,-306 1328.5,-306 1322.5,-300 1322.5,-294 1322.5,-294 1322.5,-235 1322.5,-235 1322.5,-229 1328.5,-223 1334.5,-223 1334.5,-223 1436.5,-223 1436.5,-223 1442.5,-223 1448.5,-229 1448.5,-235 1448.5,-235 1448.5,-294 1448.5,-294 1448.5,-300 1442.5,-306 1436.5,-306\"/>\r\n",
       "<text text-anchor=\"start\" x=\"1330.5\" y=\"-290.8\" font-family=\"Helvetica,sans-Serif\" font-size=\"14.00\">BChromatin ≤ 4.5</text>\r\n",
       "<text text-anchor=\"start\" x=\"1335.5\" y=\"-275.8\" font-family=\"Helvetica,sans-Serif\" font-size=\"14.00\">entropy = 0.677</text>\r\n",
       "<text text-anchor=\"start\" x=\"1342\" y=\"-260.8\" font-family=\"Helvetica,sans-Serif\" font-size=\"14.00\">samples = 28</text>\r\n",
       "<text text-anchor=\"start\" x=\"1341\" y=\"-245.8\" font-family=\"Helvetica,sans-Serif\" font-size=\"14.00\">value = [5, 23]</text>\r\n",
       "<text text-anchor=\"start\" x=\"1331\" y=\"-230.8\" font-family=\"Helvetica,sans-Serif\" font-size=\"14.00\">class = Malignant</text>\r\n",
       "</g>\r\n",
       "<!-- 29&#45;&gt;30 -->\r\n",
       "<g id=\"edge30\" class=\"edge\"><title>29&#45;&gt;30</title>\r\n",
       "<path fill=\"none\" stroke=\"black\" d=\"M1385.5,-341.907C1385.5,-333.649 1385.5,-324.864 1385.5,-316.302\"/>\r\n",
       "<polygon fill=\"black\" stroke=\"black\" points=\"1389,-316.021 1385.5,-306.021 1382,-316.021 1389,-316.021\"/>\r\n",
       "</g>\r\n",
       "<!-- 35 -->\r\n",
       "<g id=\"node36\" class=\"node\"><title>35</title>\r\n",
       "<path fill=\"#399de5\" stroke=\"black\" d=\"M1580,-298.5C1580,-298.5 1479,-298.5 1479,-298.5 1473,-298.5 1467,-292.5 1467,-286.5 1467,-286.5 1467,-242.5 1467,-242.5 1467,-236.5 1473,-230.5 1479,-230.5 1479,-230.5 1580,-230.5 1580,-230.5 1586,-230.5 1592,-236.5 1592,-242.5 1592,-242.5 1592,-286.5 1592,-286.5 1592,-292.5 1586,-298.5 1580,-298.5\"/>\r\n",
       "<text text-anchor=\"start\" x=\"1487.5\" y=\"-283.3\" font-family=\"Helvetica,sans-Serif\" font-size=\"14.00\">entropy = 0.0</text>\r\n",
       "<text text-anchor=\"start\" x=\"1486\" y=\"-268.3\" font-family=\"Helvetica,sans-Serif\" font-size=\"14.00\">samples = 44</text>\r\n",
       "<text text-anchor=\"start\" x=\"1485\" y=\"-253.3\" font-family=\"Helvetica,sans-Serif\" font-size=\"14.00\">value = [0, 44]</text>\r\n",
       "<text text-anchor=\"start\" x=\"1475\" y=\"-238.3\" font-family=\"Helvetica,sans-Serif\" font-size=\"14.00\">class = Malignant</text>\r\n",
       "</g>\r\n",
       "<!-- 29&#45;&gt;35 -->\r\n",
       "<g id=\"edge35\" class=\"edge\"><title>29&#45;&gt;35</title>\r\n",
       "<path fill=\"none\" stroke=\"black\" d=\"M1435.46,-341.907C1450.13,-329.99 1466.15,-316.976 1480.74,-305.12\"/>\r\n",
       "<polygon fill=\"black\" stroke=\"black\" points=\"1483.13,-307.689 1488.68,-298.667 1478.71,-302.256 1483.13,-307.689\"/>\r\n",
       "</g>\r\n",
       "<!-- 31 -->\r\n",
       "<g id=\"node32\" class=\"node\"><title>31</title>\r\n",
       "<path fill=\"#ffffff\" stroke=\"black\" d=\"M1428.5,-179.5C1428.5,-179.5 1342.5,-179.5 1342.5,-179.5 1336.5,-179.5 1330.5,-173.5 1330.5,-167.5 1330.5,-167.5 1330.5,-123.5 1330.5,-123.5 1330.5,-117.5 1336.5,-111.5 1342.5,-111.5 1342.5,-111.5 1428.5,-111.5 1428.5,-111.5 1434.5,-111.5 1440.5,-117.5 1440.5,-123.5 1440.5,-123.5 1440.5,-167.5 1440.5,-167.5 1440.5,-173.5 1434.5,-179.5 1428.5,-179.5\"/>\r\n",
       "<text text-anchor=\"start\" x=\"1343.5\" y=\"-164.3\" font-family=\"Helvetica,sans-Serif\" font-size=\"14.00\">entropy = 1.0</text>\r\n",
       "<text text-anchor=\"start\" x=\"1346\" y=\"-149.3\" font-family=\"Helvetica,sans-Serif\" font-size=\"14.00\">samples = 8</text>\r\n",
       "<text text-anchor=\"start\" x=\"1345\" y=\"-134.3\" font-family=\"Helvetica,sans-Serif\" font-size=\"14.00\">value = [4, 4]</text>\r\n",
       "<text text-anchor=\"start\" x=\"1338.5\" y=\"-119.3\" font-family=\"Helvetica,sans-Serif\" font-size=\"14.00\">class = Benign</text>\r\n",
       "</g>\r\n",
       "<!-- 30&#45;&gt;31 -->\r\n",
       "<g id=\"edge31\" class=\"edge\"><title>30&#45;&gt;31</title>\r\n",
       "<path fill=\"none\" stroke=\"black\" d=\"M1385.5,-222.907C1385.5,-212.204 1385.5,-200.615 1385.5,-189.776\"/>\r\n",
       "<polygon fill=\"black\" stroke=\"black\" points=\"1389,-189.667 1385.5,-179.667 1382,-189.667 1389,-189.667\"/>\r\n",
       "</g>\r\n",
       "<!-- 32 -->\r\n",
       "<g id=\"node33\" class=\"node\"><title>32</title>\r\n",
       "<path fill=\"#43a2e6\" stroke=\"black\" d=\"M1572,-187C1572,-187 1471,-187 1471,-187 1465,-187 1459,-181 1459,-175 1459,-175 1459,-116 1459,-116 1459,-110 1465,-104 1471,-104 1471,-104 1572,-104 1572,-104 1578,-104 1584,-110 1584,-116 1584,-116 1584,-175 1584,-175 1584,-181 1578,-187 1572,-187\"/>\r\n",
       "<text text-anchor=\"start\" x=\"1483\" y=\"-171.8\" font-family=\"Helvetica,sans-Serif\" font-size=\"14.00\">Clump ≤ 5.5</text>\r\n",
       "<text text-anchor=\"start\" x=\"1471.5\" y=\"-156.8\" font-family=\"Helvetica,sans-Serif\" font-size=\"14.00\">entropy = 0.286</text>\r\n",
       "<text text-anchor=\"start\" x=\"1478\" y=\"-141.8\" font-family=\"Helvetica,sans-Serif\" font-size=\"14.00\">samples = 20</text>\r\n",
       "<text text-anchor=\"start\" x=\"1477\" y=\"-126.8\" font-family=\"Helvetica,sans-Serif\" font-size=\"14.00\">value = [1, 19]</text>\r\n",
       "<text text-anchor=\"start\" x=\"1467\" y=\"-111.8\" font-family=\"Helvetica,sans-Serif\" font-size=\"14.00\">class = Malignant</text>\r\n",
       "</g>\r\n",
       "<!-- 30&#45;&gt;32 -->\r\n",
       "<g id=\"edge32\" class=\"edge\"><title>30&#45;&gt;32</title>\r\n",
       "<path fill=\"none\" stroke=\"black\" d=\"M1432.68,-222.907C1443.66,-213.469 1455.43,-203.343 1466.69,-193.649\"/>\r\n",
       "<polygon fill=\"black\" stroke=\"black\" points=\"1469.1,-196.196 1474.4,-187.021 1464.54,-190.889 1469.1,-196.196\"/>\r\n",
       "</g>\r\n",
       "<!-- 33 -->\r\n",
       "<g id=\"node34\" class=\"node\"><title>33</title>\r\n",
       "<path fill=\"#399de5\" stroke=\"black\" d=\"M1500,-68C1500,-68 1399,-68 1399,-68 1393,-68 1387,-62 1387,-56 1387,-56 1387,-12 1387,-12 1387,-6 1393,-0 1399,-0 1399,-0 1500,-0 1500,-0 1506,-0 1512,-6 1512,-12 1512,-12 1512,-56 1512,-56 1512,-62 1506,-68 1500,-68\"/>\r\n",
       "<text text-anchor=\"start\" x=\"1407.5\" y=\"-52.8\" font-family=\"Helvetica,sans-Serif\" font-size=\"14.00\">entropy = 0.0</text>\r\n",
       "<text text-anchor=\"start\" x=\"1406\" y=\"-37.8\" font-family=\"Helvetica,sans-Serif\" font-size=\"14.00\">samples = 15</text>\r\n",
       "<text text-anchor=\"start\" x=\"1405\" y=\"-22.8\" font-family=\"Helvetica,sans-Serif\" font-size=\"14.00\">value = [0, 15]</text>\r\n",
       "<text text-anchor=\"start\" x=\"1395\" y=\"-7.8\" font-family=\"Helvetica,sans-Serif\" font-size=\"14.00\">class = Malignant</text>\r\n",
       "</g>\r\n",
       "<!-- 32&#45;&gt;33 -->\r\n",
       "<g id=\"edge33\" class=\"edge\"><title>32&#45;&gt;33</title>\r\n",
       "<path fill=\"none\" stroke=\"black\" d=\"M1494.69,-103.726C1488.93,-94.9703 1482.84,-85.7032 1477.05,-76.9051\"/>\r\n",
       "<polygon fill=\"black\" stroke=\"black\" points=\"1479.81,-74.7322 1471.4,-68.2996 1473.97,-78.5781 1479.81,-74.7322\"/>\r\n",
       "</g>\r\n",
       "<!-- 34 -->\r\n",
       "<g id=\"node35\" class=\"node\"><title>34</title>\r\n",
       "<path fill=\"#6ab6ec\" stroke=\"black\" d=\"M1643,-68C1643,-68 1542,-68 1542,-68 1536,-68 1530,-62 1530,-56 1530,-56 1530,-12 1530,-12 1530,-6 1536,-0 1542,-0 1542,-0 1643,-0 1643,-0 1649,-0 1655,-6 1655,-12 1655,-12 1655,-56 1655,-56 1655,-62 1649,-68 1643,-68\"/>\r\n",
       "<text text-anchor=\"start\" x=\"1542.5\" y=\"-52.8\" font-family=\"Helvetica,sans-Serif\" font-size=\"14.00\">entropy = 0.722</text>\r\n",
       "<text text-anchor=\"start\" x=\"1553\" y=\"-37.8\" font-family=\"Helvetica,sans-Serif\" font-size=\"14.00\">samples = 5</text>\r\n",
       "<text text-anchor=\"start\" x=\"1552\" y=\"-22.8\" font-family=\"Helvetica,sans-Serif\" font-size=\"14.00\">value = [1, 4]</text>\r\n",
       "<text text-anchor=\"start\" x=\"1538\" y=\"-7.8\" font-family=\"Helvetica,sans-Serif\" font-size=\"14.00\">class = Malignant</text>\r\n",
       "</g>\r\n",
       "<!-- 32&#45;&gt;34 -->\r\n",
       "<g id=\"edge34\" class=\"edge\"><title>32&#45;&gt;34</title>\r\n",
       "<path fill=\"none\" stroke=\"black\" d=\"M1547.94,-103.726C1553.62,-94.9703 1559.62,-85.7032 1565.33,-76.9051\"/>\r\n",
       "<polygon fill=\"black\" stroke=\"black\" points=\"1568.4,-78.5943 1570.91,-68.2996 1562.53,-74.786 1568.4,-78.5943\"/>\r\n",
       "</g>\r\n",
       "</g>\r\n",
       "</svg>\r\n"
      ],
      "text/plain": [
       "<graphviz.files.Source at 0x1aa2c2f7978>"
      ]
     },
     "execution_count": 154,
     "metadata": {},
     "output_type": "execute_result"
    }
   ],
   "source": [
    "data = tree.export_graphviz(best_model, out_file=None, \n",
    "                         feature_names=X_train.columns,  \n",
    "                         class_names=['Benign','Malignant'],  \n",
    "                         filled=True, rounded=True,  \n",
    "                         special_characters=True)  \n",
    "graph = graphviz.Source(data)  \n",
    "graph"
   ]
  },
  {
   "cell_type": "markdown",
   "metadata": {},
   "source": [
    "So we have the best model with below parameters:<br>\n",
    "- criterion: Entropy <br>\n",
    "- min_samples_split: 5 <br>\n",
    "- max_depth: 9 <br>\n",
    "- min_samples_leaf: 5"
   ]
  },
  {
   "cell_type": "code",
   "execution_count": null,
   "metadata": {},
   "outputs": [],
   "source": []
  }
 ],
 "metadata": {
  "kernelspec": {
   "display_name": "Python base",
   "language": "python",
   "name": "base"
  },
  "language_info": {
   "codemirror_mode": {
    "name": "ipython",
    "version": 3
   },
   "file_extension": ".py",
   "mimetype": "text/x-python",
   "name": "python",
   "nbconvert_exporter": "python",
   "pygments_lexer": "ipython3",
   "version": "3.6.9"
  }
 },
 "nbformat": 4,
 "nbformat_minor": 2
}
